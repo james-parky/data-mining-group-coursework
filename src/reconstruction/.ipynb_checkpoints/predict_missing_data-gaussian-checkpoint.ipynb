{
 "cells": [
  {
   "cell_type": "code",
   "execution_count": 2,
   "metadata": {
    "cell_id": "cf14722a77344b5a943cf42b74c7e8e2",
    "deepnote_cell_type": "code",
    "deepnote_to_be_reexecuted": false,
    "execution_millis": 0,
    "execution_start": 1672958382221,
    "source_hash": "b7dcc9c8"
   },
   "outputs": [],
   "source": [
    "import numpy as np\n",
    "import pandas as pd"
   ]
  },
  {
   "cell_type": "markdown",
   "metadata": {
    "cell_id": "bf885ffd1ded4d8f9926f38c3ba2a84e",
    "deepnote_cell_type": "markdown"
   },
   "source": [
    "### data extraction from csv files"
   ]
  },
  {
   "cell_type": "code",
   "execution_count": 3,
   "metadata": {
    "cell_id": "6b38fb50df134f4ba5889717655d588b",
    "deepnote_cell_type": "code",
    "deepnote_to_be_reexecuted": false,
    "execution_millis": 127,
    "execution_start": 1672958382226,
    "source_hash": "b8005e64"
   },
   "outputs": [
    {
     "ename": "FileNotFoundError",
     "evalue": "[Errno 2] No such file or directory: './match_history.csv'",
     "output_type": "error",
     "traceback": [
      "\u001b[0;31m---------------------------------------------------------------------------\u001b[0m",
      "\u001b[0;31mFileNotFoundError\u001b[0m                         Traceback (most recent call last)",
      "\u001b[0;32m<ipython-input-3-e8832bbd0d57>\u001b[0m in \u001b[0;36m<module>\u001b[0;34m\u001b[0m\n\u001b[1;32m      1\u001b[0m \u001b[0mtrain_dataset\u001b[0m \u001b[0;34m=\u001b[0m \u001b[0;34mr\"./match_history.csv\"\u001b[0m\u001b[0;34m\u001b[0m\u001b[0;34m\u001b[0m\u001b[0m\n\u001b[0;32m----> 2\u001b[0;31m \u001b[0mdf\u001b[0m \u001b[0;34m=\u001b[0m \u001b[0mpd\u001b[0m\u001b[0;34m.\u001b[0m\u001b[0mread_csv\u001b[0m\u001b[0;34m(\u001b[0m\u001b[0mtrain_dataset\u001b[0m\u001b[0;34m)\u001b[0m\u001b[0;34m\u001b[0m\u001b[0;34m\u001b[0m\u001b[0m\n\u001b[0m\u001b[1;32m      3\u001b[0m \u001b[0mdf\u001b[0m\u001b[0;34m\u001b[0m\u001b[0;34m\u001b[0m\u001b[0m\n",
      "\u001b[0;32m/Library/Frameworks/Python.framework/Versions/3.9/lib/python3.9/site-packages/pandas/util/_decorators.py\u001b[0m in \u001b[0;36mwrapper\u001b[0;34m(*args, **kwargs)\u001b[0m\n\u001b[1;32m    309\u001b[0m                     \u001b[0mstacklevel\u001b[0m\u001b[0;34m=\u001b[0m\u001b[0mstacklevel\u001b[0m\u001b[0;34m,\u001b[0m\u001b[0;34m\u001b[0m\u001b[0;34m\u001b[0m\u001b[0m\n\u001b[1;32m    310\u001b[0m                 )\n\u001b[0;32m--> 311\u001b[0;31m             \u001b[0;32mreturn\u001b[0m \u001b[0mfunc\u001b[0m\u001b[0;34m(\u001b[0m\u001b[0;34m*\u001b[0m\u001b[0margs\u001b[0m\u001b[0;34m,\u001b[0m \u001b[0;34m**\u001b[0m\u001b[0mkwargs\u001b[0m\u001b[0;34m)\u001b[0m\u001b[0;34m\u001b[0m\u001b[0;34m\u001b[0m\u001b[0m\n\u001b[0m\u001b[1;32m    312\u001b[0m \u001b[0;34m\u001b[0m\u001b[0m\n\u001b[1;32m    313\u001b[0m         \u001b[0;32mreturn\u001b[0m \u001b[0mwrapper\u001b[0m\u001b[0;34m\u001b[0m\u001b[0;34m\u001b[0m\u001b[0m\n",
      "\u001b[0;32m/Library/Frameworks/Python.framework/Versions/3.9/lib/python3.9/site-packages/pandas/io/parsers/readers.py\u001b[0m in \u001b[0;36mread_csv\u001b[0;34m(filepath_or_buffer, sep, delimiter, header, names, index_col, usecols, squeeze, prefix, mangle_dupe_cols, dtype, engine, converters, true_values, false_values, skipinitialspace, skiprows, skipfooter, nrows, na_values, keep_default_na, na_filter, verbose, skip_blank_lines, parse_dates, infer_datetime_format, keep_date_col, date_parser, dayfirst, cache_dates, iterator, chunksize, compression, thousands, decimal, lineterminator, quotechar, quoting, doublequote, escapechar, comment, encoding, encoding_errors, dialect, error_bad_lines, warn_bad_lines, on_bad_lines, delim_whitespace, low_memory, memory_map, float_precision, storage_options)\u001b[0m\n\u001b[1;32m    584\u001b[0m     \u001b[0mkwds\u001b[0m\u001b[0;34m.\u001b[0m\u001b[0mupdate\u001b[0m\u001b[0;34m(\u001b[0m\u001b[0mkwds_defaults\u001b[0m\u001b[0;34m)\u001b[0m\u001b[0;34m\u001b[0m\u001b[0;34m\u001b[0m\u001b[0m\n\u001b[1;32m    585\u001b[0m \u001b[0;34m\u001b[0m\u001b[0m\n\u001b[0;32m--> 586\u001b[0;31m     \u001b[0;32mreturn\u001b[0m \u001b[0m_read\u001b[0m\u001b[0;34m(\u001b[0m\u001b[0mfilepath_or_buffer\u001b[0m\u001b[0;34m,\u001b[0m \u001b[0mkwds\u001b[0m\u001b[0;34m)\u001b[0m\u001b[0;34m\u001b[0m\u001b[0;34m\u001b[0m\u001b[0m\n\u001b[0m\u001b[1;32m    587\u001b[0m \u001b[0;34m\u001b[0m\u001b[0m\n\u001b[1;32m    588\u001b[0m \u001b[0;34m\u001b[0m\u001b[0m\n",
      "\u001b[0;32m/Library/Frameworks/Python.framework/Versions/3.9/lib/python3.9/site-packages/pandas/io/parsers/readers.py\u001b[0m in \u001b[0;36m_read\u001b[0;34m(filepath_or_buffer, kwds)\u001b[0m\n\u001b[1;32m    480\u001b[0m \u001b[0;34m\u001b[0m\u001b[0m\n\u001b[1;32m    481\u001b[0m     \u001b[0;31m# Create the parser.\u001b[0m\u001b[0;34m\u001b[0m\u001b[0;34m\u001b[0m\u001b[0;34m\u001b[0m\u001b[0m\n\u001b[0;32m--> 482\u001b[0;31m     \u001b[0mparser\u001b[0m \u001b[0;34m=\u001b[0m \u001b[0mTextFileReader\u001b[0m\u001b[0;34m(\u001b[0m\u001b[0mfilepath_or_buffer\u001b[0m\u001b[0;34m,\u001b[0m \u001b[0;34m**\u001b[0m\u001b[0mkwds\u001b[0m\u001b[0;34m)\u001b[0m\u001b[0;34m\u001b[0m\u001b[0;34m\u001b[0m\u001b[0m\n\u001b[0m\u001b[1;32m    483\u001b[0m \u001b[0;34m\u001b[0m\u001b[0m\n\u001b[1;32m    484\u001b[0m     \u001b[0;32mif\u001b[0m \u001b[0mchunksize\u001b[0m \u001b[0;32mor\u001b[0m \u001b[0miterator\u001b[0m\u001b[0;34m:\u001b[0m\u001b[0;34m\u001b[0m\u001b[0;34m\u001b[0m\u001b[0m\n",
      "\u001b[0;32m/Library/Frameworks/Python.framework/Versions/3.9/lib/python3.9/site-packages/pandas/io/parsers/readers.py\u001b[0m in \u001b[0;36m__init__\u001b[0;34m(self, f, engine, **kwds)\u001b[0m\n\u001b[1;32m    809\u001b[0m             \u001b[0mself\u001b[0m\u001b[0;34m.\u001b[0m\u001b[0moptions\u001b[0m\u001b[0;34m[\u001b[0m\u001b[0;34m\"has_index_names\"\u001b[0m\u001b[0;34m]\u001b[0m \u001b[0;34m=\u001b[0m \u001b[0mkwds\u001b[0m\u001b[0;34m[\u001b[0m\u001b[0;34m\"has_index_names\"\u001b[0m\u001b[0;34m]\u001b[0m\u001b[0;34m\u001b[0m\u001b[0;34m\u001b[0m\u001b[0m\n\u001b[1;32m    810\u001b[0m \u001b[0;34m\u001b[0m\u001b[0m\n\u001b[0;32m--> 811\u001b[0;31m         \u001b[0mself\u001b[0m\u001b[0;34m.\u001b[0m\u001b[0m_engine\u001b[0m \u001b[0;34m=\u001b[0m \u001b[0mself\u001b[0m\u001b[0;34m.\u001b[0m\u001b[0m_make_engine\u001b[0m\u001b[0;34m(\u001b[0m\u001b[0mself\u001b[0m\u001b[0;34m.\u001b[0m\u001b[0mengine\u001b[0m\u001b[0;34m)\u001b[0m\u001b[0;34m\u001b[0m\u001b[0;34m\u001b[0m\u001b[0m\n\u001b[0m\u001b[1;32m    812\u001b[0m \u001b[0;34m\u001b[0m\u001b[0m\n\u001b[1;32m    813\u001b[0m     \u001b[0;32mdef\u001b[0m \u001b[0mclose\u001b[0m\u001b[0;34m(\u001b[0m\u001b[0mself\u001b[0m\u001b[0;34m)\u001b[0m\u001b[0;34m:\u001b[0m\u001b[0;34m\u001b[0m\u001b[0;34m\u001b[0m\u001b[0m\n",
      "\u001b[0;32m/Library/Frameworks/Python.framework/Versions/3.9/lib/python3.9/site-packages/pandas/io/parsers/readers.py\u001b[0m in \u001b[0;36m_make_engine\u001b[0;34m(self, engine)\u001b[0m\n\u001b[1;32m   1038\u001b[0m             )\n\u001b[1;32m   1039\u001b[0m         \u001b[0;31m# error: Too many arguments for \"ParserBase\"\u001b[0m\u001b[0;34m\u001b[0m\u001b[0;34m\u001b[0m\u001b[0;34m\u001b[0m\u001b[0m\n\u001b[0;32m-> 1040\u001b[0;31m         \u001b[0;32mreturn\u001b[0m \u001b[0mmapping\u001b[0m\u001b[0;34m[\u001b[0m\u001b[0mengine\u001b[0m\u001b[0;34m]\u001b[0m\u001b[0;34m(\u001b[0m\u001b[0mself\u001b[0m\u001b[0;34m.\u001b[0m\u001b[0mf\u001b[0m\u001b[0;34m,\u001b[0m \u001b[0;34m**\u001b[0m\u001b[0mself\u001b[0m\u001b[0;34m.\u001b[0m\u001b[0moptions\u001b[0m\u001b[0;34m)\u001b[0m  \u001b[0;31m# type: ignore[call-arg]\u001b[0m\u001b[0;34m\u001b[0m\u001b[0;34m\u001b[0m\u001b[0m\n\u001b[0m\u001b[1;32m   1041\u001b[0m \u001b[0;34m\u001b[0m\u001b[0m\n\u001b[1;32m   1042\u001b[0m     \u001b[0;32mdef\u001b[0m \u001b[0m_failover_to_python\u001b[0m\u001b[0;34m(\u001b[0m\u001b[0mself\u001b[0m\u001b[0;34m)\u001b[0m\u001b[0;34m:\u001b[0m\u001b[0;34m\u001b[0m\u001b[0;34m\u001b[0m\u001b[0m\n",
      "\u001b[0;32m/Library/Frameworks/Python.framework/Versions/3.9/lib/python3.9/site-packages/pandas/io/parsers/c_parser_wrapper.py\u001b[0m in \u001b[0;36m__init__\u001b[0;34m(self, src, **kwds)\u001b[0m\n\u001b[1;32m     49\u001b[0m \u001b[0;34m\u001b[0m\u001b[0m\n\u001b[1;32m     50\u001b[0m         \u001b[0;31m# open handles\u001b[0m\u001b[0;34m\u001b[0m\u001b[0;34m\u001b[0m\u001b[0;34m\u001b[0m\u001b[0m\n\u001b[0;32m---> 51\u001b[0;31m         \u001b[0mself\u001b[0m\u001b[0;34m.\u001b[0m\u001b[0m_open_handles\u001b[0m\u001b[0;34m(\u001b[0m\u001b[0msrc\u001b[0m\u001b[0;34m,\u001b[0m \u001b[0mkwds\u001b[0m\u001b[0;34m)\u001b[0m\u001b[0;34m\u001b[0m\u001b[0;34m\u001b[0m\u001b[0m\n\u001b[0m\u001b[1;32m     52\u001b[0m         \u001b[0;32massert\u001b[0m \u001b[0mself\u001b[0m\u001b[0;34m.\u001b[0m\u001b[0mhandles\u001b[0m \u001b[0;32mis\u001b[0m \u001b[0;32mnot\u001b[0m \u001b[0;32mNone\u001b[0m\u001b[0;34m\u001b[0m\u001b[0;34m\u001b[0m\u001b[0m\n\u001b[1;32m     53\u001b[0m \u001b[0;34m\u001b[0m\u001b[0m\n",
      "\u001b[0;32m/Library/Frameworks/Python.framework/Versions/3.9/lib/python3.9/site-packages/pandas/io/parsers/base_parser.py\u001b[0m in \u001b[0;36m_open_handles\u001b[0;34m(self, src, kwds)\u001b[0m\n\u001b[1;32m    220\u001b[0m         \u001b[0mLet\u001b[0m \u001b[0mthe\u001b[0m \u001b[0mreaders\u001b[0m \u001b[0mopen\u001b[0m \u001b[0mIOHandles\u001b[0m \u001b[0mafter\u001b[0m \u001b[0mthey\u001b[0m \u001b[0mare\u001b[0m \u001b[0mdone\u001b[0m \u001b[0;32mwith\u001b[0m \u001b[0mtheir\u001b[0m \u001b[0mpotential\u001b[0m \u001b[0mraises\u001b[0m\u001b[0;34m.\u001b[0m\u001b[0;34m\u001b[0m\u001b[0;34m\u001b[0m\u001b[0m\n\u001b[1;32m    221\u001b[0m         \"\"\"\n\u001b[0;32m--> 222\u001b[0;31m         self.handles = get_handle(\n\u001b[0m\u001b[1;32m    223\u001b[0m             \u001b[0msrc\u001b[0m\u001b[0;34m,\u001b[0m\u001b[0;34m\u001b[0m\u001b[0;34m\u001b[0m\u001b[0m\n\u001b[1;32m    224\u001b[0m             \u001b[0;34m\"r\"\u001b[0m\u001b[0;34m,\u001b[0m\u001b[0;34m\u001b[0m\u001b[0;34m\u001b[0m\u001b[0m\n",
      "\u001b[0;32m/Library/Frameworks/Python.framework/Versions/3.9/lib/python3.9/site-packages/pandas/io/common.py\u001b[0m in \u001b[0;36mget_handle\u001b[0;34m(path_or_buf, mode, encoding, compression, memory_map, is_text, errors, storage_options)\u001b[0m\n\u001b[1;32m    699\u001b[0m         \u001b[0;32mif\u001b[0m \u001b[0mioargs\u001b[0m\u001b[0;34m.\u001b[0m\u001b[0mencoding\u001b[0m \u001b[0;32mand\u001b[0m \u001b[0;34m\"b\"\u001b[0m \u001b[0;32mnot\u001b[0m \u001b[0;32min\u001b[0m \u001b[0mioargs\u001b[0m\u001b[0;34m.\u001b[0m\u001b[0mmode\u001b[0m\u001b[0;34m:\u001b[0m\u001b[0;34m\u001b[0m\u001b[0;34m\u001b[0m\u001b[0m\n\u001b[1;32m    700\u001b[0m             \u001b[0;31m# Encoding\u001b[0m\u001b[0;34m\u001b[0m\u001b[0;34m\u001b[0m\u001b[0;34m\u001b[0m\u001b[0m\n\u001b[0;32m--> 701\u001b[0;31m             handle = open(\n\u001b[0m\u001b[1;32m    702\u001b[0m                 \u001b[0mhandle\u001b[0m\u001b[0;34m,\u001b[0m\u001b[0;34m\u001b[0m\u001b[0;34m\u001b[0m\u001b[0m\n\u001b[1;32m    703\u001b[0m                 \u001b[0mioargs\u001b[0m\u001b[0;34m.\u001b[0m\u001b[0mmode\u001b[0m\u001b[0;34m,\u001b[0m\u001b[0;34m\u001b[0m\u001b[0;34m\u001b[0m\u001b[0m\n",
      "\u001b[0;31mFileNotFoundError\u001b[0m: [Errno 2] No such file or directory: './match_history.csv'"
     ]
    }
   ],
   "source": [
    "train_dataset = '../dataset/'\n",
    "df = pd.read_csv(train_dataset)\n",
    "df"
   ]
  },
  {
   "cell_type": "markdown",
   "metadata": {
    "cell_id": "0654b37cefc44b76af5793c19a012668",
    "deepnote_cell_type": "markdown"
   },
   "source": [
    "# Data preprocessing"
   ]
  },
  {
   "cell_type": "markdown",
   "metadata": {
    "cell_id": "78dd5e0f6bf24278b2b9051566073f5d",
    "deepnote_cell_type": "markdown"
   },
   "source": [
    "### Team score data extraction (data extracted to dictionary scores)"
   ]
  },
  {
   "cell_type": "code",
   "execution_count": 1,
   "metadata": {
    "cell_id": "cbefa05e1fd744a98e747b0eeb20de1b",
    "deepnote_cell_type": "code",
    "deepnote_to_be_reexecuted": false,
    "execution_millis": 35,
    "execution_start": 1672958382359,
    "scrolled": false,
    "source_hash": "bf198ac5"
   },
   "outputs": [
    {
     "ename": "NameError",
     "evalue": "name 'pd' is not defined",
     "output_type": "error",
     "traceback": [
      "\u001b[0;31m---------------------------------------------------------------------------\u001b[0m",
      "\u001b[0;31mNameError\u001b[0m                                 Traceback (most recent call last)",
      "\u001b[0;32m<ipython-input-1-a02066405553>\u001b[0m in \u001b[0;36m<module>\u001b[0;34m\u001b[0m\n\u001b[1;32m      1\u001b[0m \u001b[0mtrain_dataset\u001b[0m \u001b[0;34m=\u001b[0m \u001b[0;34mr\"./match_history.csv\"\u001b[0m\u001b[0;34m\u001b[0m\u001b[0;34m\u001b[0m\u001b[0m\n\u001b[0;32m----> 2\u001b[0;31m \u001b[0mdf\u001b[0m \u001b[0;34m=\u001b[0m \u001b[0mpd\u001b[0m\u001b[0;34m.\u001b[0m\u001b[0mread_csv\u001b[0m\u001b[0;34m(\u001b[0m\u001b[0mtrain_dataset\u001b[0m\u001b[0;34m)\u001b[0m\u001b[0;34m\u001b[0m\u001b[0;34m\u001b[0m\u001b[0m\n\u001b[0m\u001b[1;32m      3\u001b[0m \u001b[0;34m\u001b[0m\u001b[0m\n\u001b[1;32m      4\u001b[0m \u001b[0;34m\u001b[0m\u001b[0m\n\u001b[1;32m      5\u001b[0m \u001b[0;31m#extract following columns\u001b[0m\u001b[0;34m\u001b[0m\u001b[0;34m\u001b[0m\u001b[0;34m\u001b[0m\u001b[0m\n",
      "\u001b[0;31mNameError\u001b[0m: name 'pd' is not defined"
     ]
    }
   ],
   "source": [
    "train_dataset = r\"./match_history.csv\"\n",
    "df = pd.read_csv(train_dataset)\n",
    "\n",
    "\n",
    "#extract following columns\n",
    "core_df = df[[\n",
    "    \"date\", \n",
    "    \"home_team\", \"away_team\", \n",
    "    \"home_team_fifa_rank\", \"away_team_fifa_rank\",  \n",
    "    'home_team_goalkeeper_score', 'away_team_goalkeeper_score',\n",
    "    'home_team_mean_defense_score', 'home_team_mean_offense_score',\n",
    "    'home_team_mean_midfield_score', 'away_team_mean_defense_score',\n",
    "    'away_team_mean_offense_score', 'away_team_mean_midfield_score',\n",
    "    'home_team_result', 'home_team_score', 'away_team_score',\n",
    "    'neutral_location'\n",
    "    ]].copy()\n",
    "\n",
    "#simple data modification\n",
    "core_df = core_df.fillna(0)\n",
    "core_df[\"home_team_result\"] = core_df[\"home_team_result\"].replace(['Lose', 'Draw', 'Win'], [0, 1, 2])\n",
    "core_df[\"neutral_location\"] = core_df[\"neutral_location\"].astype(int)\n",
    "core_df['date'] = core_df['date'].str.replace(r\"\\D\", \"\")\n",
    "\n",
    "\n",
    "#variables \n",
    "home_score = [\n",
    "    'home_team_goalkeeper_score', \n",
    "    'home_team_mean_defense_score', \n",
    "    'home_team_mean_offense_score',\n",
    "    'home_team_mean_midfield_score',\n",
    "]\n",
    "\n",
    "away_score = [\n",
    "    'away_team_goalkeeper_score',\n",
    "    'away_team_mean_defense_score',\n",
    "    'away_team_mean_offense_score', \n",
    "    'away_team_mean_midfield_score',\n",
    "]\n",
    "\n",
    "#country = np.unique(country_name, return_counts=True)\n",
    "country_list = df['home_team'].values\n",
    "country_list = np.unique(country_list)\n",
    "\n",
    "pos_score = [\n",
    "    'gk_score',\n",
    "    'def_score',\n",
    "    'mid_score',\n",
    "    'atk_score'\n",
    "    ]\n",
    "\n",
    "core_df"
   ]
  },
  {
   "cell_type": "markdown",
   "metadata": {
    "cell_id": "cc5425d0c56c40debb2d16993702a5ec",
    "deepnote_cell_type": "markdown"
   },
   "source": [
    "### Score data in dictionary scores"
   ]
  },
  {
   "cell_type": "code",
   "execution_count": 4,
   "metadata": {
    "cell_id": "1deed731600542ae8152ccc79075623b",
    "deepnote_cell_type": "code",
    "deepnote_to_be_reexecuted": false,
    "execution_millis": 635,
    "execution_start": 1672958382441,
    "scrolled": true,
    "source_hash": "50115c41"
   },
   "outputs": [],
   "source": [
    "scores = {}\n",
    "\n",
    "\n",
    "for index, row in core_df.iterrows():\n",
    "    home = row['home_team']\n",
    "    away = row['away_team']\n",
    "    \n",
    "    if home not in scores:\n",
    "        scores[home] = {}\n",
    "        scores[home]['gk_score'] = []\n",
    "        scores[home]['def_score'] = []\n",
    "        scores[home]['mid_score'] = []\n",
    "        scores[home]['atk_score'] = []\n",
    "        \n",
    "    if away not in scores:\n",
    "        scores[away] = {}\n",
    "        scores[away]['gk_score'] = []\n",
    "        scores[away]['def_score'] = []\n",
    "        scores[away]['mid_score'] = []\n",
    "        scores[away]['atk_score'] = []\n",
    "    \n",
    "    scores[home]['gk_score'].append([row['date'], row['home_team_goalkeeper_score']])\n",
    "    scores[home]['def_score'].append([row['date'], row['home_team_mean_defense_score']])\n",
    "    scores[home]['mid_score'].append([row['date'], row['home_team_mean_midfield_score']])\n",
    "    scores[home]['atk_score'].append([row['date'],row['home_team_mean_offense_score']])\n",
    "    \n",
    "    scores[away]['gk_score'].append([row['date'], row['away_team_goalkeeper_score']])\n",
    "    scores[away]['def_score'].append([row['date'], row['away_team_mean_defense_score']])\n",
    "    scores[away]['mid_score'].append([row['date'], row['away_team_mean_midfield_score']])\n",
    "    scores[away]['atk_score'].append([row['date'],row['away_team_mean_offense_score']])\n",
    "    "
   ]
  },
  {
   "cell_type": "markdown",
   "metadata": {},
   "source": [
    "### Feature Engineering"
   ]
  },
  {
   "cell_type": "code",
   "execution_count": null,
   "metadata": {},
   "outputs": [],
   "source": []
  },
  {
   "cell_type": "markdown",
   "metadata": {
    "cell_id": "ec53e32beb764afe8fdcf646a7426fee",
    "deepnote_cell_type": "markdown"
   },
   "source": [
    "### Score data preprocessing"
   ]
  },
  {
   "cell_type": "code",
   "execution_count": 5,
   "metadata": {
    "cell_id": "727b08ef7f574418bde8866a5b9fc04d",
    "deepnote_cell_type": "code",
    "deepnote_to_be_reexecuted": false,
    "execution_millis": 4,
    "execution_start": 1672958383086,
    "source_hash": "b24946f6"
   },
   "outputs": [
    {
     "data": {
      "text/plain": [
       "[array([[2.0070912e+07, 5.2000000e+01],\n",
       "        [2.0071013e+07, 5.2000000e+01],\n",
       "        [2.0071017e+07, 5.2000000e+01],\n",
       "        [2.0071121e+07, 5.2000000e+01],\n",
       "        [2.0080527e+07, 5.2000000e+01],\n",
       "        [2.0080906e+07, 5.1000000e+01],\n",
       "        [2.0081011e+07, 5.1000000e+01],\n",
       "        [2.0081015e+07, 5.1000000e+01],\n",
       "        [2.0090328e+07, 5.1000000e+01],\n",
       "        [2.0090401e+07, 5.1000000e+01],\n",
       "        [2.0090606e+07, 5.1000000e+01],\n",
       "        [2.0090610e+07, 5.1000000e+01],\n",
       "        [2.0090909e+07, 6.5000000e+01],\n",
       "        [2.0091014e+07, 6.5000000e+01],\n",
       "        [2.0091114e+07, 6.5000000e+01],\n",
       "        [2.0100303e+07, 6.5000000e+01],\n",
       "        [2.0100525e+07, 6.5000000e+01],\n",
       "        [2.0100903e+07, 6.9000000e+01],\n",
       "        [2.0101008e+07, 6.9000000e+01],\n",
       "        [2.0101012e+07, 6.9000000e+01],\n",
       "        [2.0101117e+07, 6.9000000e+01],\n",
       "        [2.0110209e+07, 6.9000000e+01],\n",
       "        [2.0110326e+07, 6.9000000e+01],\n",
       "        [2.0110607e+07, 6.9000000e+01],\n",
       "        [2.0110620e+07, 6.9000000e+01],\n",
       "        [2.0110810e+07, 6.9000000e+01],\n",
       "        [2.0110902e+07, 7.0000000e+01],\n",
       "        [2.0111007e+07, 7.0000000e+01],\n",
       "        [2.0111011e+07, 7.0000000e+01],\n",
       "        [2.0111115e+07, 7.0000000e+01],\n",
       "        [2.0120229e+07, 7.0000000e+01],\n",
       "        [2.0120815e+07, 7.0000000e+01],\n",
       "        [2.0120911e+07, 7.4000000e+01],\n",
       "        [2.0121012e+07, 7.4000000e+01],\n",
       "        [2.0121016e+07, 7.4000000e+01],\n",
       "        [2.0121114e+07, 7.4000000e+01],\n",
       "        [2.0130206e+07, 7.4000000e+01],\n",
       "        [2.0130322e+07, 7.4000000e+01],\n",
       "        [2.0130326e+07, 7.4000000e+01],\n",
       "        [2.0130607e+07, 7.4000000e+01],\n",
       "        [2.0130906e+07, 7.3000000e+01],\n",
       "        [2.0130910e+07, 7.3000000e+01],\n",
       "        [2.0131011e+07, 7.3000000e+01],\n",
       "        [2.0131115e+07, 7.3000000e+01],\n",
       "        [2.0140531e+07, 7.3000000e+01],\n",
       "        [2.0140604e+07, 7.3000000e+01],\n",
       "        [2.0140907e+07, 7.2000000e+01],\n",
       "        [2.0141011e+07, 7.2000000e+01],\n",
       "        [2.0141014e+07, 7.2000000e+01],\n",
       "        [2.0141114e+07, 7.2000000e+01],\n",
       "        [2.0141118e+07, 7.2000000e+01],\n",
       "        [2.0150613e+07, 7.2000000e+01],\n",
       "        [2.0150904e+07, 7.3000000e+01],\n",
       "        [2.0150907e+07, 7.3000000e+01],\n",
       "        [2.0151008e+07, 7.3000000e+01],\n",
       "        [2.0151116e+07, 7.3000000e+01],\n",
       "        [2.0160326e+07, 7.3000000e+01],\n",
       "        [2.0160603e+07, 7.3000000e+01],\n",
       "        [2.0160611e+07, 7.3000000e+01],\n",
       "        [2.0160615e+07, 7.3000000e+01],\n",
       "        [2.0160619e+07, 7.3000000e+01],\n",
       "        [2.0160831e+07, 7.3000000e+01],\n",
       "        [2.0160905e+07, 7.5000000e+01],\n",
       "        [2.0161009e+07, 7.5000000e+01],\n",
       "        [2.0161112e+07, 7.5000000e+01],\n",
       "        [2.0170324e+07, 7.5000000e+01],\n",
       "        [2.0170328e+07, 7.5000000e+01],\n",
       "        [2.0170604e+07, 7.5000000e+01],\n",
       "        [2.0170611e+07, 7.5000000e+01],\n",
       "        [2.0170905e+07, 7.8000000e+01],\n",
       "        [2.0171006e+07, 7.8000000e+01],\n",
       "        [2.0171009e+07, 7.8000000e+01],\n",
       "        [2.0171113e+07, 7.8000000e+01],\n",
       "        [2.0180326e+07, 7.8000000e+01],\n",
       "        [2.0180529e+07, 7.8000000e+01],\n",
       "        [2.0180603e+07, 7.8000000e+01],\n",
       "        [2.0180907e+07, 8.0000000e+01],\n",
       "        [2.0180910e+07, 8.0000000e+01],\n",
       "        [2.0181014e+07, 8.0000000e+01],\n",
       "        [2.0181117e+07, 8.0000000e+01],\n",
       "        [2.0181120e+07, 8.0000000e+01],\n",
       "        [2.0190322e+07, 8.0000000e+01],\n",
       "        [2.0190608e+07, 8.0000000e+01],\n",
       "        [2.0190907e+07, 8.2000000e+01],\n",
       "        [2.0190910e+07, 8.2000000e+01],\n",
       "        [2.0191011e+07, 8.2000000e+01],\n",
       "        [2.0191014e+07, 8.2000000e+01],\n",
       "        [2.0191117e+07, 8.2000000e+01],\n",
       "        [2.0200907e+07, 8.3000000e+01],\n",
       "        [2.0201014e+07, 8.3000000e+01],\n",
       "        [2.0201111e+07, 8.3000000e+01],\n",
       "        [2.0210328e+07, 8.3000000e+01],\n",
       "        [2.0210605e+07, 8.3000000e+01],\n",
       "        [2.0210608e+07, 8.3000000e+01],\n",
       "        [2.0210902e+07, 8.0000000e+01],\n",
       "        [2.0210905e+07, 8.0000000e+01],\n",
       "        [2.0211009e+07, 8.0000000e+01],\n",
       "        [2.0211012e+07, 8.0000000e+01],\n",
       "        [2.0211112e+07, 8.0000000e+01]]),\n",
       " array([[20040904.,        0.],\n",
       "        [20041009.,        0.],\n",
       "        [20050326.,        0.],\n",
       "        [20050330.,        0.],\n",
       "        [20050529.,        0.],\n",
       "        [20050608.,        0.],\n",
       "        [20051012.,        0.],\n",
       "        [20060906.,        0.],\n",
       "        [20061011.,        0.],\n",
       "        [20070324.,        0.],\n",
       "        [20070328.,        0.]])]"
      ]
     },
     "execution_count": 5,
     "metadata": {},
     "output_type": "execute_result"
    }
   ],
   "source": [
    "# fetch according country, position_team_mean_score from dict scores \n",
    "# if 0 not included in the data, returns an empty list => no missing values, no prediction needed\n",
    "def fetch_country_pos_score(country, pos_score):\n",
    "    predict_target = []\n",
    "    model_data = []\n",
    "    \n",
    "    for item in scores[country][pos_score]:\n",
    "        if 0 in item:\n",
    "            predict_target.append(item)\n",
    "        else:\n",
    "            model_data.append(item)\n",
    "            \n",
    "    if predict_target == []:\n",
    "        #print(\"No missing values\")\n",
    "        return []\n",
    "            \n",
    "    else:\n",
    "        #if model_data == []:\n",
    "            #print(\"No data available\")\n",
    "        #else:\n",
    "            #print(\"Missing\", len(predict_target), \"values\")   \n",
    "        \n",
    "        data = [model_data, predict_target]\n",
    "\n",
    "        # model_data and predict_target to np float array\n",
    "        data[0] = np.array(data[0]).astype(float)\n",
    "        data[1] = np.array(data[1]).astype(float)\n",
    "\n",
    "        return data\n",
    "\n",
    "fetch_country_pos_score('Albania','gk_score')\n"
   ]
  },
  {
   "cell_type": "code",
   "execution_count": 6,
   "metadata": {
    "cell_id": "d52a35ba66b9411a84033b3a7792ed99",
    "deepnote_cell_type": "code",
    "deepnote_to_be_reexecuted": false,
    "execution_millis": 4,
    "execution_start": 1672958383098,
    "source_hash": "858ebcda"
   },
   "outputs": [
    {
     "data": {
      "text/plain": [
       "[[array([[2.0070912e+07, 5.2000000e+01],\n",
       "         [2.0071013e+07, 5.2000000e+01],\n",
       "         [2.0071017e+07, 5.2000000e+01],\n",
       "         [2.0071121e+07, 5.2000000e+01],\n",
       "         [2.0080527e+07, 5.2000000e+01],\n",
       "         [2.0080906e+07, 5.1000000e+01],\n",
       "         [2.0081011e+07, 5.1000000e+01],\n",
       "         [2.0081015e+07, 5.1000000e+01],\n",
       "         [2.0090328e+07, 5.1000000e+01],\n",
       "         [2.0090401e+07, 5.1000000e+01],\n",
       "         [2.0090606e+07, 5.1000000e+01],\n",
       "         [2.0090610e+07, 5.1000000e+01],\n",
       "         [2.0090909e+07, 6.5000000e+01],\n",
       "         [2.0091014e+07, 6.5000000e+01],\n",
       "         [2.0091114e+07, 6.5000000e+01],\n",
       "         [2.0100303e+07, 6.5000000e+01],\n",
       "         [2.0100525e+07, 6.5000000e+01],\n",
       "         [2.0100903e+07, 6.9000000e+01],\n",
       "         [2.0101008e+07, 6.9000000e+01],\n",
       "         [2.0101012e+07, 6.9000000e+01],\n",
       "         [2.0101117e+07, 6.9000000e+01],\n",
       "         [2.0110209e+07, 6.9000000e+01],\n",
       "         [2.0110326e+07, 6.9000000e+01],\n",
       "         [2.0110607e+07, 6.9000000e+01],\n",
       "         [2.0110620e+07, 6.9000000e+01],\n",
       "         [2.0110810e+07, 6.9000000e+01],\n",
       "         [2.0110902e+07, 7.0000000e+01],\n",
       "         [2.0111007e+07, 7.0000000e+01],\n",
       "         [2.0111011e+07, 7.0000000e+01],\n",
       "         [2.0111115e+07, 7.0000000e+01],\n",
       "         [2.0120229e+07, 7.0000000e+01],\n",
       "         [2.0120815e+07, 7.0000000e+01],\n",
       "         [2.0120911e+07, 7.4000000e+01],\n",
       "         [2.0121012e+07, 7.4000000e+01],\n",
       "         [2.0121016e+07, 7.4000000e+01],\n",
       "         [2.0121114e+07, 7.4000000e+01],\n",
       "         [2.0130206e+07, 7.4000000e+01],\n",
       "         [2.0130322e+07, 7.4000000e+01],\n",
       "         [2.0130326e+07, 7.4000000e+01],\n",
       "         [2.0130607e+07, 7.4000000e+01],\n",
       "         [2.0130906e+07, 7.3000000e+01],\n",
       "         [2.0130910e+07, 7.3000000e+01],\n",
       "         [2.0131011e+07, 7.3000000e+01],\n",
       "         [2.0131115e+07, 7.3000000e+01],\n",
       "         [2.0140531e+07, 7.3000000e+01],\n",
       "         [2.0140604e+07, 7.3000000e+01],\n",
       "         [2.0140907e+07, 7.2000000e+01],\n",
       "         [2.0141011e+07, 7.2000000e+01],\n",
       "         [2.0141014e+07, 7.2000000e+01],\n",
       "         [2.0141114e+07, 7.2000000e+01],\n",
       "         [2.0141118e+07, 7.2000000e+01],\n",
       "         [2.0150613e+07, 7.2000000e+01],\n",
       "         [2.0150904e+07, 7.3000000e+01],\n",
       "         [2.0150907e+07, 7.3000000e+01],\n",
       "         [2.0151008e+07, 7.3000000e+01],\n",
       "         [2.0151116e+07, 7.3000000e+01],\n",
       "         [2.0160326e+07, 7.3000000e+01],\n",
       "         [2.0160603e+07, 7.3000000e+01],\n",
       "         [2.0160611e+07, 7.3000000e+01],\n",
       "         [2.0160615e+07, 7.3000000e+01],\n",
       "         [2.0160619e+07, 7.3000000e+01],\n",
       "         [2.0160831e+07, 7.3000000e+01],\n",
       "         [2.0160905e+07, 7.5000000e+01],\n",
       "         [2.0161009e+07, 7.5000000e+01],\n",
       "         [2.0161112e+07, 7.5000000e+01],\n",
       "         [2.0170324e+07, 7.5000000e+01],\n",
       "         [2.0170328e+07, 7.5000000e+01],\n",
       "         [2.0170604e+07, 7.5000000e+01],\n",
       "         [2.0170611e+07, 7.5000000e+01],\n",
       "         [2.0170905e+07, 7.8000000e+01],\n",
       "         [2.0171006e+07, 7.8000000e+01],\n",
       "         [2.0171009e+07, 7.8000000e+01],\n",
       "         [2.0171113e+07, 7.8000000e+01],\n",
       "         [2.0180326e+07, 7.8000000e+01],\n",
       "         [2.0180529e+07, 7.8000000e+01],\n",
       "         [2.0180603e+07, 7.8000000e+01],\n",
       "         [2.0180907e+07, 8.0000000e+01],\n",
       "         [2.0180910e+07, 8.0000000e+01],\n",
       "         [2.0181014e+07, 8.0000000e+01],\n",
       "         [2.0181117e+07, 8.0000000e+01],\n",
       "         [2.0181120e+07, 8.0000000e+01],\n",
       "         [2.0190322e+07, 8.0000000e+01],\n",
       "         [2.0190608e+07, 8.0000000e+01],\n",
       "         [2.0190907e+07, 8.2000000e+01],\n",
       "         [2.0190910e+07, 8.2000000e+01],\n",
       "         [2.0191011e+07, 8.2000000e+01],\n",
       "         [2.0191014e+07, 8.2000000e+01],\n",
       "         [2.0191117e+07, 8.2000000e+01],\n",
       "         [2.0200907e+07, 8.3000000e+01],\n",
       "         [2.0201014e+07, 8.3000000e+01],\n",
       "         [2.0201111e+07, 8.3000000e+01],\n",
       "         [2.0210328e+07, 8.3000000e+01],\n",
       "         [2.0210605e+07, 8.3000000e+01],\n",
       "         [2.0210608e+07, 8.3000000e+01],\n",
       "         [2.0210902e+07, 8.0000000e+01],\n",
       "         [2.0210905e+07, 8.0000000e+01],\n",
       "         [2.0211009e+07, 8.0000000e+01],\n",
       "         [2.0211012e+07, 8.0000000e+01],\n",
       "         [2.0211112e+07, 8.0000000e+01]]),\n",
       "  array([[20040904.,        0.],\n",
       "         [20041009.,        0.],\n",
       "         [20050326.,        0.],\n",
       "         [20050330.,        0.],\n",
       "         [20050529.,        0.],\n",
       "         [20050608.,        0.],\n",
       "         [20051012.,        0.],\n",
       "         [20060906.,        0.],\n",
       "         [20061011.,        0.],\n",
       "         [20070324.,        0.],\n",
       "         [20070328.,        0.]])],\n",
       " [array([[2.0130906e+07, 6.7500000e+01],\n",
       "         [2.0130910e+07, 6.7500000e+01],\n",
       "         [2.0131011e+07, 6.7500000e+01],\n",
       "         [2.0131115e+07, 6.7500000e+01],\n",
       "         [2.0140531e+07, 6.7500000e+01],\n",
       "         [2.0140604e+07, 6.7500000e+01],\n",
       "         [2.0140907e+07, 7.0000000e+01],\n",
       "         [2.0141011e+07, 7.0000000e+01],\n",
       "         [2.0141014e+07, 7.0000000e+01],\n",
       "         [2.0141114e+07, 7.0000000e+01],\n",
       "         [2.0141118e+07, 7.0000000e+01],\n",
       "         [2.0150613e+07, 7.0000000e+01],\n",
       "         [2.0150904e+07, 7.0800000e+01],\n",
       "         [2.0150907e+07, 7.0800000e+01],\n",
       "         [2.0151008e+07, 7.0800000e+01],\n",
       "         [2.0151116e+07, 7.0800000e+01],\n",
       "         [2.0160326e+07, 7.0800000e+01],\n",
       "         [2.0160603e+07, 7.0800000e+01],\n",
       "         [2.0160611e+07, 7.0800000e+01],\n",
       "         [2.0160615e+07, 7.0800000e+01],\n",
       "         [2.0160619e+07, 7.0800000e+01],\n",
       "         [2.0160831e+07, 7.0800000e+01],\n",
       "         [2.0160905e+07, 7.3200000e+01],\n",
       "         [2.0161009e+07, 7.3200000e+01],\n",
       "         [2.0161112e+07, 7.3200000e+01],\n",
       "         [2.0170324e+07, 7.3200000e+01],\n",
       "         [2.0170328e+07, 7.3200000e+01],\n",
       "         [2.0170604e+07, 7.3200000e+01],\n",
       "         [2.0170611e+07, 7.3200000e+01],\n",
       "         [2.0170905e+07, 7.3200000e+01],\n",
       "         [2.0171006e+07, 7.3200000e+01],\n",
       "         [2.0171009e+07, 7.3200000e+01],\n",
       "         [2.0171113e+07, 7.3200000e+01],\n",
       "         [2.0180326e+07, 7.3200000e+01],\n",
       "         [2.0180529e+07, 7.3200000e+01],\n",
       "         [2.0180603e+07, 7.3200000e+01],\n",
       "         [2.0180907e+07, 7.2800000e+01],\n",
       "         [2.0180910e+07, 7.2800000e+01],\n",
       "         [2.0181014e+07, 7.2800000e+01],\n",
       "         [2.0181117e+07, 7.2800000e+01],\n",
       "         [2.0181120e+07, 7.2800000e+01],\n",
       "         [2.0190322e+07, 7.2800000e+01],\n",
       "         [2.0190608e+07, 7.2800000e+01],\n",
       "         [2.0190907e+07, 7.4200000e+01],\n",
       "         [2.0190910e+07, 7.4200000e+01],\n",
       "         [2.0191011e+07, 7.4200000e+01],\n",
       "         [2.0191014e+07, 7.4200000e+01],\n",
       "         [2.0191117e+07, 7.4200000e+01],\n",
       "         [2.0200907e+07, 7.5500000e+01],\n",
       "         [2.0201014e+07, 7.5500000e+01],\n",
       "         [2.0201111e+07, 7.5500000e+01],\n",
       "         [2.0210328e+07, 7.5500000e+01],\n",
       "         [2.0210605e+07, 7.5500000e+01],\n",
       "         [2.0210608e+07, 7.5500000e+01],\n",
       "         [2.0210902e+07, 7.6200000e+01],\n",
       "         [2.0210905e+07, 7.6200000e+01],\n",
       "         [2.0211009e+07, 7.6200000e+01],\n",
       "         [2.0211012e+07, 7.6200000e+01],\n",
       "         [2.0211112e+07, 7.6200000e+01]]),\n",
       "  array([[20040904.,        0.],\n",
       "         [20041009.,        0.],\n",
       "         [20050326.,        0.],\n",
       "         [20050330.,        0.],\n",
       "         [20050529.,        0.],\n",
       "         [20050608.,        0.],\n",
       "         [20051012.,        0.],\n",
       "         [20060906.,        0.],\n",
       "         [20061011.,        0.],\n",
       "         [20070324.,        0.],\n",
       "         [20070328.,        0.],\n",
       "         [20070912.,        0.],\n",
       "         [20071013.,        0.],\n",
       "         [20071017.,        0.],\n",
       "         [20071121.,        0.],\n",
       "         [20080527.,        0.],\n",
       "         [20080906.,        0.],\n",
       "         [20081011.,        0.],\n",
       "         [20081015.,        0.],\n",
       "         [20090328.,        0.],\n",
       "         [20090401.,        0.],\n",
       "         [20090606.,        0.],\n",
       "         [20090610.,        0.],\n",
       "         [20090909.,        0.],\n",
       "         [20091014.,        0.],\n",
       "         [20091114.,        0.],\n",
       "         [20100303.,        0.],\n",
       "         [20100525.,        0.],\n",
       "         [20100903.,        0.],\n",
       "         [20101008.,        0.],\n",
       "         [20101012.,        0.],\n",
       "         [20101117.,        0.],\n",
       "         [20110209.,        0.],\n",
       "         [20110326.,        0.],\n",
       "         [20110607.,        0.],\n",
       "         [20110620.,        0.],\n",
       "         [20110810.,        0.],\n",
       "         [20110902.,        0.],\n",
       "         [20111007.,        0.],\n",
       "         [20111011.,        0.],\n",
       "         [20111115.,        0.],\n",
       "         [20120229.,        0.],\n",
       "         [20120815.,        0.],\n",
       "         [20120911.,        0.],\n",
       "         [20121012.,        0.],\n",
       "         [20121016.,        0.],\n",
       "         [20121114.,        0.],\n",
       "         [20130206.,        0.],\n",
       "         [20130322.,        0.],\n",
       "         [20130326.,        0.],\n",
       "         [20130607.,        0.]])],\n",
       " [],\n",
       " []]"
      ]
     },
     "execution_count": 6,
     "metadata": {},
     "output_type": "execute_result"
    }
   ],
   "source": [
    "def fetch_country_score(country):\n",
    "    data = []\n",
    "    \n",
    "    #index 0: gk, index 1: def, index 2: mid, index 3: atk\n",
    "    for score in pos_score:\n",
    "        #print(score,\": \",end = \"\")\n",
    "        data.append(fetch_country_pos_score(country,score))\n",
    "    \n",
    "    return data\n",
    "\n",
    "fetch_country_score('Albania')"
   ]
  },
  {
   "cell_type": "markdown",
   "metadata": {
    "cell_id": "7b7626c9e0cd497b801590851877eef8",
    "deepnote_cell_type": "markdown"
   },
   "source": [
    "### Show data"
   ]
  },
  {
   "cell_type": "code",
   "execution_count": 7,
   "metadata": {
    "cell_id": "5eaea490baf8464fa06566e3bb8c8382",
    "deepnote_cell_type": "code",
    "deepnote_to_be_reexecuted": false,
    "execution_millis": 1481,
    "execution_start": 1672958383145,
    "source_hash": "ae5bb0d8"
   },
   "outputs": [],
   "source": [
    "import matplotlib.pyplot as plt\n",
    "\n",
    "# plot data based on country and pos_score info\n",
    "def show_model_data(country, pos_score):\n",
    "    data = fetch_country_pos_score(country, pos_score)\n",
    "    \n",
    "    # don't draw graph if there is no data to draw\n",
    "    if data == [] or len(data[0]) == 0:\n",
    "        return\n",
    "    else:\n",
    "        model_data = data[0]\n",
    "        d = np.hsplit(model_data,2)\n",
    "        plt.scatter(d[0],d[1])\n",
    "        plt.xlabel('time')\n",
    "        plt.ylabel(pos_score)\n",
    "        plt.title(\"{} {}\".format(country,pos_score))\n",
    "        plt.show()\n",
    "\n",
    "#show_model_data('Congo','mid_score')\n",
    "show_model_data('Azerbaijan', 'def_score')"
   ]
  },
  {
   "cell_type": "code",
   "execution_count": 8,
   "metadata": {
    "cell_id": "a5eadf63adc24940b42da95800dfc674",
    "deepnote_cell_type": "code",
    "deepnote_to_be_reexecuted": false,
    "execution_millis": 239,
    "execution_start": 1672958384634,
    "source_hash": "bf0af406"
   },
   "outputs": [
    {
     "name": "stdout",
     "output_type": "stream",
     "text": [
      "-------------------------------\n",
      "Azerbaijan Position Scores\n",
      "-------------------------------\n"
     ]
    }
   ],
   "source": [
    "import matplotlib.pyplot as plt\n",
    "\n",
    "\n",
    "# displays the variables that needs to be investigated to generate missing values\n",
    "# so for Albania case, gk and def scores contain missing values => target for prediction\n",
    "def show_model_data(country):\n",
    "    print(\"-------------------------------\")\n",
    "    print(country, \"Position Scores\")\n",
    "    print(\"-------------------------------\")\n",
    "\n",
    "    count = 0\n",
    "    data = fetch_country_score(country)\n",
    "    \n",
    "    for elem in data:\n",
    "        count += 1\n",
    "        # again, don't display graph if there is no data\n",
    "        if elem == [] or len(elem[0]) == 0:\n",
    "            pass\n",
    "        else:\n",
    "            model_data = elem[0]\n",
    "            d = np.hsplit(model_data,2)\n",
    "            plt.scatter(d[0],d[1])\n",
    "            plt.xlabel('time')\n",
    "            if count == 1:\n",
    "                plt.title(\"{} {}\".format(country,'gk_score'))\n",
    "                plt.ylabel('gk_score')\n",
    "            elif count == 2:\n",
    "                plt.title(\"{} {}\".format(country,'def_score'))\n",
    "                plt.ylabel('def_score')\n",
    "            elif count == 3:\n",
    "                plt.title(\"{} {}\".format(country,'mid_score'))\n",
    "                plt.ylabel('mid_score')\n",
    "            else:\n",
    "                plt.title(\"{} {}\".format(country,'atk_score'))\n",
    "                plt.ylabel('atk_score')\n",
    "            plt.show()\n",
    "\n",
    "#show_model_data('Albania')\n",
    "show_model_data('Azerbaijan')"
   ]
  },
  {
   "cell_type": "code",
   "execution_count": 9,
   "metadata": {
    "cell_id": "cc10fd53f0094b48a9b7f45e336fb565",
    "deepnote_cell_type": "code",
    "deepnote_to_be_reexecuted": false,
    "execution_millis": 15170,
    "execution_start": 1672958384878,
    "source_hash": "f3b3bd07"
   },
   "outputs": [
    {
     "data": {
      "text/plain": [
       "'\\nfor country in country_list:\\n    show_model_data(country)\\n    print(\"\\n\")\\n'"
      ]
     },
     "execution_count": 9,
     "metadata": {},
     "output_type": "execute_result"
    }
   ],
   "source": [
    "# display all prediction targets\n",
    "'''\n",
    "for country in country_list:\n",
    "    show_model_data(country)\n",
    "    print(\"\\n\")\n",
    "'''"
   ]
  },
  {
   "cell_type": "code",
   "execution_count": 10,
   "metadata": {
    "cell_id": "e8359bf068974b7da9488aacf64c94f6",
    "deepnote_cell_type": "code",
    "deepnote_to_be_reexecuted": true,
    "execution_millis": 533,
    "execution_start": 1672865373800,
    "source_hash": "b230e246"
   },
   "outputs": [
    {
     "name": "stdout",
     "output_type": "stream",
     "text": [
      "Score: 0.7899949532841467\n"
     ]
    },
    {
     "data": {
      "text/plain": [
       "LinearRegression()"
      ]
     },
     "execution_count": 10,
     "metadata": {},
     "output_type": "execute_result"
    }
   ],
   "source": [
    "from sklearn.model_selection import train_test_split\n",
    "from sklearn.linear_model import LinearRegression\n",
    "\n",
    "def lr_model(model_data):\n",
    "    d = np.hsplit(model_data,2)\n",
    "    date = d[0]\n",
    "    pos = d[1]\n",
    "    \n",
    "    train_input, test_input, train_target, test_target = train_test_split(\n",
    "    date, pos, random_state=42)\n",
    "    \n",
    "    lr = LinearRegression()\n",
    "\n",
    "    lr.fit(train_input, train_target)\n",
    "    print(\"Score: {}\".format(lr.score(test_input, test_target)))\n",
    "    \n",
    "    return lr\n",
    "    \n",
    "data = fetch_country_pos_score('Albania', 'gk_score')\n",
    "lr_model(data[0])"
   ]
  },
  {
   "cell_type": "markdown",
   "metadata": {
    "cell_id": "a431a594c3d14093b831a70895ee07c7",
    "deepnote_cell_type": "text-cell-h3",
    "formattedRanges": [],
    "is_collapsed": false,
    "tags": []
   },
   "source": [
    "### Gaussian Distribution"
   ]
  },
  {
   "cell_type": "markdown",
   "metadata": {
    "cell_id": "776fd6d924f24fd7a15d158feaec4faa",
    "deepnote_cell_type": "text-cell-h3",
    "formattedRanges": [],
    "is_collapsed": false,
    "tags": []
   },
   "source": [
    "### Generate Data with Gaussian"
   ]
  },
  {
   "cell_type": "code",
   "execution_count": 11,
   "metadata": {},
   "outputs": [],
   "source": [
    "import scipy.stats as stats\n",
    "from statistics import mean\n",
    "from scipy.stats import truncnorm\n",
    "\n",
    "#translates from sample to sd space given a distribution's mean and sd\n",
    "def sample_to_sd(sample, mean, sd):\n",
    "    return (sample - mean) / sd\n",
    "\n",
    "# use truncated gaussian bounded at lower and upper limits\n",
    "def generate_truncated_gaussian(params):\n",
    "    mean = params[0]\n",
    "    sd = params[1]\n",
    "    lower = params[2]\n",
    "    upper = params[3]\n",
    "\n",
    "    return truncnorm(sample_to_sd(lower, mean, sd), sample_to_sd(upper, mean, sd), loc= mean, scale = sd)\n",
    "\n",
    "def get_gaussian_parameters(data):\n",
    "    # average data for each score\n",
    "    avg = np.mean(data[0], axis=0)[1]\n",
    "    #avdef = np.mean(fetch_country_pos_score('Albania','def_score')[0], axis=0)[1]\n",
    "\n",
    "    # variance data for each scores for Albania\n",
    "    var= np.var(data[0], axis=0)[1]\n",
    "    sd = np.sqrt(var)\n",
    "    #vardef= np.var(fetch_country_pos_score('Albania','def_score')[0], axis=0)[1]\n",
    "\n",
    "    #min and max to truncate gaussian\n",
    "    min = np.amin(data[0], axis=0)[1]\n",
    "    max = np.amax(data[0], axis=0)[1]\n",
    "\n",
    "    return [avg, sd, min, max]\n",
    "\n",
    "def sample_truncated_gaussian(data):\n",
    "    params = get_gaussian_parameters(data)\n",
    "    dist = generate_truncated_gaussian(params)\n",
    "\n",
    "    if isinstance(dist, int):\n",
    "        return dist\n",
    "\n",
    "    return dist.rvs(1)[0]"
   ]
  },
  {
   "cell_type": "code",
   "execution_count": 12,
   "metadata": {},
   "outputs": [
    {
     "data": {
      "text/plain": [
       "61.0"
      ]
     },
     "execution_count": 12,
     "metadata": {},
     "output_type": "execute_result"
    }
   ],
   "source": [
    "def fetch_gaussian_pos_score(country, pos_score):\n",
    "    data = fetch_country_pos_score(country, pos_score)\n",
    "    #in this case there is no data at all for the position score; use the median score 75\n",
    "    if len(data[0]) == 0:\n",
    "        return 75.0\n",
    "\n",
    "    #subroutine to check if all data values are the same (invalid variance)\n",
    "    sum = 0\n",
    "    ln = len(data[0])\n",
    "    for i in range(ln):\n",
    "        sum += data[0][i][1]\n",
    "    if sum/ln == data[0][0][1]:\n",
    "        return data[0][0][1]\n",
    "\n",
    "\n",
    "    return sample_truncated_gaussian(data)\n",
    "\n",
    "fetch_gaussian_pos_score('Honduras', 'gk_score')"
   ]
  },
  {
   "cell_type": "code",
   "execution_count": 13,
   "metadata": {
    "cell_id": "d1d6e14366ce4e6eb562ef5fa0031423",
    "deepnote_cell_type": "code",
    "deepnote_to_be_reexecuted": true,
    "execution_millis": 381,
    "execution_start": 1672870444678,
    "source_hash": "d58582f6",
    "tags": []
   },
   "outputs": [
    {
     "name": "stdout",
     "output_type": "stream",
     "text": [
      "-------------------------------\n",
      "Albania Position Scores\n",
      "-------------------------------\n"
     ]
    },
    {
     "data": {
      "image/png": "[encoded data removed]",
      "text/plain": [
       "<Figure size 432x288 with 1 Axes>"
      ]
     },
     "metadata": {
      "needs_background": "light"
     },
     "output_type": "display_data"
    },
    {
     "data": {
      "image/png": "[encoded data removed]",
      "text/plain": [
       "<Figure size 432x288 with 1 Axes>"
      ]
     },
     "metadata": {
      "needs_background": "light"
     },
     "output_type": "display_data"
    },
    {
     "data": {
      "image/png": "[encoded data removed]",
      "text/plain": [
       "<Figure size 432x288 with 1 Axes>"
      ]
     },
     "metadata": {
      "needs_background": "light"
     },
     "output_type": "display_data"
    },
    {
     "name": "stdout",
     "output_type": "stream",
     "text": [
      "true mean =  71.85858585858585\n",
      "standard deviation =  8.87171205393191\n",
      "min =  51.0\n",
      "max =  83.0\n"
     ]
    },
    {
     "data": {
      "image/png": "[encoded data removed]",
      "text/plain": [
       "<Figure size 432x288 with 1 Axes>"
      ]
     },
     "metadata": {
      "needs_background": "light"
     },
     "output_type": "display_data"
    }
   ],
   "source": [
    "#show_model_data('Congo')\n",
    "show_model_data('Albania')\n",
    "\n",
    "# gaussian distribution for country, pos_score\n",
    "def show_gaussian_pos_score(country, pos_score):\n",
    "    data = fetch_country_pos_score(country, pos_score)\n",
    "    params = get_gaussian_parameters(data)\n",
    "\n",
    "    X = generate_truncated_gaussian(params)\n",
    "    plt.hist(X.rvs(1000), bins= 50, alpha=0.3)\n",
    "    plt.title(\"{} {} Gaussian distribution\".format(country, pos_score))\n",
    "    #plt.title(\"Albania Goalkeeper Score Gaussian Distribution\")\n",
    "    plt.xlabel(\"Score\")\n",
    "    plt.ylabel(\"Frequency\")\n",
    "    plt.show()\n",
    "\n",
    "    print(\"true mean = \", params[0])\n",
    "    print(\"standard deviation = \", params[1])\n",
    "    print(\"min = \", params[2])\n",
    "    print(\"max = \", params[3])\n",
    "\n",
    "#show_gaussian_pos_score('Congo', 'gk_score')\n",
    "show_gaussian_pos_score('Albania', 'gk_score')\n",
    "\n",
    "#now creating a box plot for direct comparison with the distribution\n",
    "data = fetch_country_pos_score('Albania', 'gk_score')\n",
    "data_scores = np.split(data[0], 2, axis=1)\n",
    "box_scores = []\n",
    "for item in data_scores[1]:\n",
    "    box_scores.append(item[0])\n",
    "#print(box_scores)\n",
    "\n",
    "\n",
    "plt.hist(box_scores, bins= 50, alpha=0.3)\n",
    "plt.title(\"Albania Goalkeeper Scores\")\n",
    "plt.xlabel(\"Score\")\n",
    "plt.ylabel(\"Frequency\")\n",
    "plt.show()\n"
   ]
  },
  {
   "cell_type": "code",
   "execution_count": 14,
   "metadata": {},
   "outputs": [],
   "source": [
    "def fill_record_pos_scores(record):\n",
    "    #countries in this record\n",
    "    home = record['home_team']\n",
    "    away = record['away_team']\n",
    "\n",
    "    features = [\n",
    "    'home_team_goalkeeper_score',\n",
    "    'away_team_goalkeeper_score',\n",
    "    'home_team_mean_defense_score',\n",
    "    'away_team_mean_defense_score',\n",
    "    'home_team_mean_offense_score',\n",
    "    'away_team_mean_offense_score',\n",
    "    'home_team_mean_midfield_score',\n",
    "    'away_team_mean_midfield_score',\n",
    "    ]\n",
    "\n",
    "    #dictionary to check if a value corresponds to home or away team, and give the position\n",
    "    check = {\n",
    "    'home_team_goalkeeper_score':[1, 'gk_score'],\n",
    "    'away_team_goalkeeper_score':[0, 'gk_score'],\n",
    "    'home_team_mean_defense_score':[1, 'def_score'],\n",
    "    'away_team_mean_defense_score':[0, 'def_score'],\n",
    "    'home_team_mean_offense_score':[1, 'atk_score'],\n",
    "    'away_team_mean_offense_score':[0, 'atk_score'],\n",
    "    'home_team_mean_midfield_score':[1, 'mid_score'],\n",
    "    'away_team_mean_midfield_score':[0, 'mid_score']\n",
    "    }\n",
    "\n",
    "    for feature in features:\n",
    "        if record[feature] == 0:\n",
    "            country = home\n",
    "            if check[feature][0] == 0: \n",
    "                country = away\n",
    "            position = check[feature][1]\n",
    "\n",
    "            val = fetch_gaussian_pos_score(country, position)\n",
    "            record[feature] = val\n",
    "            #print(country, position, \":\", val)\n",
    "\n",
    "def fill_df_pos_scores(df):\n",
    "    for index, record in df.iterrows():\n",
    "        fill_record_pos_scores(record)\n",
    "\n",
    "#fill_df_pos_scores(core_df)"
   ]
  },
  {
   "cell_type": "markdown",
   "metadata": {},
   "source": [
    "### Comparing Results"
   ]
  },
  {
   "cell_type": "code",
   "execution_count": 15,
   "metadata": {},
   "outputs": [],
   "source": [
    "from sklearn.linear_model import LogisticRegression\n",
    "from collections import Counter\n",
    "\n",
    "def logistic_regression_model(X, y):\n",
    "    X_train_lr, X_test_lr, y_train_lr, y_test_lr = train_test_split(X, y)\n",
    "\n",
    "    lr_model = LogisticRegression(random_state=0, max_iter=500).fit(X_train_lr, y_train_lr)\n",
    "    lr_predictions = lr_model.predict(X_test_lr)\n",
    "\n",
    "    return np.mean(lr_predictions == y_test_lr.values)*100"
   ]
  },
  {
   "cell_type": "code",
   "execution_count": 16,
   "metadata": {},
   "outputs": [],
   "source": [
    "from sklearn.pipeline import make_pipeline\n",
    "from sklearn.preprocessing import StandardScaler\n",
    "from sklearn.svm import SVC\n",
    "\n",
    "def svm_model(X, y):\n",
    "    X_train_svm, X_test_svm, y_train_svm, y_test_svm = train_test_split(X, y)\n",
    "    svm_model = make_pipeline(StandardScaler(), SVC(kernel='poly')).fit(X_train_svm, y_train_svm)\n",
    "    svm_predictions = svm_model.predict(X_test_svm)\n",
    "\n",
    "    return np.mean(svm_predictions == y_test_svm.values)*100"
   ]
  },
  {
   "cell_type": "code",
   "execution_count": 17,
   "metadata": {},
   "outputs": [],
   "source": [
    "def test_model(func, num, X, y):\n",
    "    sum = 0\n",
    "    for i in range(num):\n",
    "        sum += func(X, y)\n",
    "    return sum/num"
   ]
  },
  {
   "cell_type": "code",
   "execution_count": 18,
   "metadata": {},
   "outputs": [
    {
     "name": "stdout",
     "output_type": "stream",
     "text": [
      "Base LR: 53.31915898889677\n",
      "Base SVM: 49.255846917080085\n",
      "\n",
      "\n",
      "Filled LR: 54.2404913772738\n",
      "Filled_SVM: 49.279470824474366\n"
     ]
    }
   ],
   "source": [
    "X1 = core_df[[\n",
    "       'home_team_fifa_rank', 'away_team_fifa_rank',\n",
    "       'home_team_goalkeeper_score', 'away_team_goalkeeper_score',\n",
    "       'home_team_mean_defense_score', 'home_team_mean_offense_score',\n",
    "       'home_team_mean_midfield_score', 'away_team_mean_defense_score',\n",
    "       'away_team_mean_offense_score', 'away_team_mean_midfield_score'\n",
    "]].copy()\n",
    "\n",
    "y = core_df[\"home_team_result\"]\n",
    "\n",
    "base_lr = test_model(logistic_regression_model, 3, X1, y)\n",
    "base_svm = test_model(svm_model, 3, X1, y)\n",
    "\n",
    "#now getting data filled with the gaussian distribution\n",
    "X2 = core_df[[\n",
    "       \"home_team\", \"away_team\",\n",
    "       'home_team_fifa_rank', 'away_team_fifa_rank',\n",
    "       'home_team_goalkeeper_score', 'away_team_goalkeeper_score',\n",
    "       'home_team_mean_defense_score', 'home_team_mean_offense_score',\n",
    "       'home_team_mean_midfield_score', 'away_team_mean_defense_score',\n",
    "       'away_team_mean_offense_score', 'away_team_mean_midfield_score'\n",
    "]].copy()\n",
    "fill_df_pos_scores(X2)\n",
    "del X2['home_team']\n",
    "del X2['away_team']\n",
    "\n",
    "filled_lr = test_model(logistic_regression_model, 3, X2, y)\n",
    "filled_svm = test_model(svm_model, 3, X2, y)\n",
    "\n",
    "print(\"Base LR:\", base_lr)\n",
    "print(\"Base SVM:\", base_svm)\n",
    "print(\"\\n\")\n",
    "print(\"Filled LR:\", filled_lr)\n",
    "print(\"Filled_SVM:\", filled_svm)"
   ]
  },
  {
   "cell_type": "markdown",
   "metadata": {},
   "source": [
    "### Box Plot of Postion Score Distributions ###"
   ]
  },
  {
   "cell_type": "code",
   "execution_count": 19,
   "metadata": {},
   "outputs": [],
   "source": [
    "def gather_position_scores(df):\n",
    "    #array of scores for each position:\n",
    "    #goalkeeper, defense, attack, midfield\n",
    "\n",
    "    pos_scores = [[], [], [], []]\n",
    "\n",
    "    features = [\n",
    "    'home_team_goalkeeper_score',\n",
    "    'away_team_goalkeeper_score',\n",
    "    'home_team_mean_defense_score',\n",
    "    'away_team_mean_defense_score',\n",
    "    'home_team_mean_offense_score',\n",
    "    'away_team_mean_offense_score',\n",
    "    'home_team_mean_midfield_score',\n",
    "    'away_team_mean_midfield_score',\n",
    "    ]\n",
    "\n",
    "    #dictionary to check what index feature corresponds to in pos_scores array\n",
    "    check = {\n",
    "    'home_team_goalkeeper_score':0,\n",
    "    'away_team_goalkeeper_score':0,\n",
    "    'home_team_mean_defense_score':1,\n",
    "    'away_team_mean_defense_score':1,\n",
    "    'home_team_mean_offense_score':2,\n",
    "    'away_team_mean_offense_score':2,\n",
    "    'home_team_mean_midfield_score':3,\n",
    "    'away_team_mean_midfield_score':3\n",
    "    }\n",
    "\n",
    "    for index, record in df.iterrows():\n",
    "        for feature in features:\n",
    "            if record[feature]:\n",
    "                pos_scores[check[feature]].append(record[feature])\n",
    "\n",
    "    return pos_scores\n",
    "\n",
    "#print(gather_position_scores(core_df))"
   ]
  },
  {
   "cell_type": "code",
   "execution_count": 20,
   "metadata": {},
   "outputs": [],
   "source": [
    "def draw_box_plot(data, title):\n",
    "    plt.boxplot(data)\n",
    "    plt.title(title)\n",
    "    plt.show()\n",
    "\n",
    "#draw_box_plot([1, 2, 2, 3, 4, 3, 5, 9, 1, 2, 2, 2, 2], \"Example Plot\")"
   ]
  },
  {
   "cell_type": "code",
   "execution_count": 21,
   "metadata": {},
   "outputs": [
    {
     "data": {
      "image/png": "[encoded data removed]",
      "text/plain": [
       "<Figure size 432x288 with 1 Axes>"
      ]
     },
     "metadata": {
      "needs_background": "light"
     },
     "output_type": "display_data"
    },
    {
     "data": {
      "image/png": "[encoded data removed]",
      "text/plain": [
       "<Figure size 432x288 with 1 Axes>"
      ]
     },
     "metadata": {
      "needs_background": "light"
     },
     "output_type": "display_data"
    },
    {
     "data": {
      "image/png": "[encoded data removed]",
      "text/plain": [
       "<Figure size 432x288 with 1 Axes>"
      ]
     },
     "metadata": {
      "needs_background": "light"
     },
     "output_type": "display_data"
    },
    {
     "data": {
      "image/png": "[encoded data removed]",
      "text/plain": [
       "<Figure size 432x288 with 1 Axes>"
      ]
     },
     "metadata": {
      "needs_background": "light"
     },
     "output_type": "display_data"
    },
    {
     "name": "stdout",
     "output_type": "stream",
     "text": [
      "10555\n",
      "10581\n",
      "10949\n",
      "10800\n"
     ]
    },
    {
     "data": {
      "image/png": "[encoded data removed]",
      "text/plain": [
       "<Figure size 432x288 with 1 Axes>"
      ]
     },
     "metadata": {
      "needs_background": "light"
     },
     "output_type": "display_data"
    }
   ],
   "source": [
    "def draw_position_box_plots(df):\n",
    "    position_scores = gather_position_scores(df)\n",
    "    pos_names = [\n",
    "    'gk_score',\n",
    "    'def_score',\n",
    "    'atk_score',\n",
    "    'mid_score'\n",
    "    ]\n",
    "\n",
    "    pos_names = [\n",
    "        'Goalkeeper Score',\n",
    "        'Defense Score',\n",
    "        'Offense Score',\n",
    "        'Midfield Score'\n",
    "    ]\n",
    "\n",
    "    #drawing one by one\n",
    "    for i in range(len(pos_names)):\n",
    "        draw_box_plot(position_scores[i], pos_names[i])\n",
    "\n",
    "    for i in position_scores:\n",
    "        print(len(i))\n",
    "\n",
    "    \n",
    "    #drawing all in same graph\n",
    "    plot_data = pd.DataFrame({\n",
    "        'Goalkeeper Score' : position_scores[0][:10554],\n",
    "        'Defense Score' : position_scores[1][:10554],\n",
    "        'Offense Score' : position_scores[2][:10554],\n",
    "        'Midfield Score' : position_scores[3][:10554]\n",
    "    })\n",
    "\n",
    "    my_dict = {\n",
    "        'Goalkeeper Score' : position_scores[0][:10554],\n",
    "        'Defense Score' : position_scores[1][:10554],\n",
    "        'Offense Score' : position_scores[2][:10554],\n",
    "        'Midfield Score' : position_scores[3][:10554]\n",
    "    }\n",
    "    fig, ax = plt.subplots()\n",
    "    ax.boxplot(my_dict.values())\n",
    "    ax.set_xticklabels(my_dict.keys())\n",
    "    ax.set_title('Position Score Box Plots')\n",
    "\n",
    "    #draw_box_plot(plot_data, 'Position Score Box Plots')\n",
    "\n",
    "draw_position_box_plots(core_df)"
   ]
  },
  {
   "cell_type": "markdown",
   "metadata": {},
   "source": [
    "### Feature Engineering ###"
   ]
  },
  {
   "cell_type": "code",
   "execution_count": 22,
   "metadata": {},
   "outputs": [],
   "source": [
    "interpolated_dataset = r\"../reconstructed_match_history_with_interpolation.csv\"\n",
    "i_df = pd.read_csv(interpolated_dataset)\n",
    "\n",
    "linear_dataset = r\"../reconstructed_with_lr_df.csv\"\n",
    "l_df = pd.read_csv(linear_dataset)"
   ]
  },
  {
   "cell_type": "code",
   "execution_count": 23,
   "metadata": {},
   "outputs": [],
   "source": [
    "def fill_score_average_record(record, df, index):\n",
    "    #countries in this record\n",
    "\n",
    "    home_score = [\n",
    "    'home_team_goalkeeper_score', \n",
    "    'home_team_mean_defense_score', \n",
    "    'home_team_mean_offense_score',\n",
    "    'home_team_mean_midfield_score',\n",
    "    ]\n",
    "\n",
    "    away_score = [\n",
    "    'away_team_goalkeeper_score',\n",
    "    'away_team_mean_defense_score',\n",
    "    'away_team_mean_offense_score', \n",
    "    'away_team_mean_midfield_score',\n",
    "    ]\n",
    "\n",
    "    home_total = 0\n",
    "    away_total = 0\n",
    "\n",
    "    for feature in home_score:\n",
    "        home_total += record[feature]\n",
    "    for feature in away_score:\n",
    "        away_total += record[feature]\n",
    "    \n",
    "    home_total /= len(home_score)\n",
    "    away_total /= len(away_score)\n",
    "\n",
    "    #print(home_total, away_total)\n",
    "\n",
    "    df.at[index, 'home_team_total_average'] = home_total\n",
    "    df.at[index, 'away_team_total_average'] = away_total\n",
    "    \n",
    "\n",
    "def create_score_averages(df):\n",
    "    #first, create the new column for home advantage feature\n",
    "    df['home_team_total_average'] = ''\n",
    "    df['away_team_total_average'] = ''\n",
    "    for index, record in df.iterrows():\n",
    "        fill_score_average_record(record, df, index)\n",
    "\n",
    "create_score_averages(core_df)\n",
    "create_score_averages(i_df)\n",
    "create_score_averages(l_df)"
   ]
  },
  {
   "cell_type": "code",
   "execution_count": 24,
   "metadata": {},
   "outputs": [],
   "source": [
    "def fill_goal_difference_record(record, df, index):\n",
    "    #countries in this record\n",
    "\n",
    "    home_goals = record['home_team_score']\n",
    "    away_goals = record['away_team_score']\n",
    "    goal_diff = abs(home_goals - away_goals)\n",
    "\n",
    "    #print(goal_diff)\n",
    "\n",
    "    df.at[index, 'goal_difference'] = goal_diff\n",
    "    \n",
    "\n",
    "def create_goal_differences(df):\n",
    "    #first, create the new column for home score difference feature\n",
    "    df['goal_difference'] = ''\n",
    "    for index, record in df.iterrows():\n",
    "        fill_goal_difference_record(record, df, index)\n",
    "    del df['home_team_score']\n",
    "    del df['away_team_score']\n",
    "\n",
    "create_goal_differences(core_df)\n",
    "create_goal_differences(i_df)\n",
    "#create_goal_differences(l_df)"
   ]
  },
  {
   "cell_type": "code",
   "execution_count": 25,
   "metadata": {},
   "outputs": [],
   "source": [
    "def fill_rank_difference_record(record, df, index):\n",
    "    #countries in this record\n",
    "\n",
    "    home_rank = record['home_team_fifa_rank']\n",
    "    away_rank = record['away_team_fifa_rank']\n",
    "    rank_diff = home_rank - away_rank\n",
    "\n",
    "    #print(rank_diff)\n",
    "\n",
    "    df.at[index, 'home_team_rank_difference'] = rank_diff\n",
    "    \n",
    "\n",
    "def create_rank_differences(df):\n",
    "    #first, create the new column for home rank difference feature\n",
    "    df['home_team_rank_difference'] = ''\n",
    "    for index, record in df.iterrows():\n",
    "        fill_rank_difference_record(record, df, index)\n",
    "\n",
    "create_rank_differences(core_df)\n",
    "create_rank_differences(i_df)\n",
    "create_rank_differences(l_df)"
   ]
  },
  {
   "cell_type": "markdown",
   "metadata": {},
   "source": [
    "### Explort Dataset ###"
   ]
  },
  {
   "cell_type": "code",
   "execution_count": 26,
   "metadata": {},
   "outputs": [],
   "source": [
    "core_df.to_csv(\"gaussian_feature_match_history.csv\")\n",
    "i_df.to_csv(\"interpolated_feature_match_history.csv\")\n",
    "l_df.to_csv(\"linear_feature_match_history.csv\")"
   ]
  },
  {
   "cell_type": "code",
   "execution_count": 27,
   "metadata": {},
   "outputs": [],
   "source": [
    "#now adding back home_team_score feature\n",
    "home_scores = df['home_team_score']\n",
    "\n",
    "core_df['home_team_score'] = home_scores\n",
    "i_df['home_team_score'] = home_scores\n",
    "l_df['home_team_score'] = home_scores\n",
    "core_df.to_csv(\"gaussian_feature_scores_match_history.csv\")\n",
    "i_df.to_csv(\"interpolated_feature_scores_match_history.csv\")\n",
    "l_df.to_csv(\"linear_feature_scores_match_history.csv\")"
   ]
  }
 ],
 "metadata": {
  "deepnote": {},
  "deepnote_execution_queue": [],
  "deepnote_notebook_id": "d63e0f0234d44cc297194c2189885081",
  "deepnote_persisted_session": {
   "createdAt": "2023-01-04T22:30:23.984Z"
  },
  "kernelspec": {
   "display_name": "Python 3",
   "language": "python",
   "name": "python3"
  },
  "language_info": {
   "codemirror_mode": {
    "name": "ipython",
    "version": 3
   },
   "file_extension": ".py",
   "mimetype": "text/x-python",
   "name": "python",
   "nbconvert_exporter": "python",
   "pygments_lexer": "ipython3",
   "version": "3.9.0"
  },
  "vscode": {
   "interpreter": {
    "hash": "9e8026256748c756b09305b4cdcf9dfafc125988c628529d61c985f1980b6b57"
   }
  }
 },
 "nbformat": 4,
 "nbformat_minor": 1
}
