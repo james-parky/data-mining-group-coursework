{
 "cells": [
  {
   "cell_type": "markdown",
   "metadata": {},
   "source": [
    "# **Data Mining Notebook**"
   ]
  },
  {
   "cell_type": "markdown",
   "metadata": {},
   "source": [
    "## **1. Introduction**"
   ]
  },
  {
   "cell_type": "markdown",
   "metadata": {},
   "source": [
    "\"A brief description of your approach to the problem and the results that you have obtained on the training data.\""
   ]
  },
  {
   "cell_type": "markdown",
   "metadata": {},
   "source": [
    "*A brief precis of the equivalent section in your report.*"
   ]
  },
  {
   "cell_type": "code",
   "execution_count": 114,
   "metadata": {},
   "outputs": [],
   "source": [
    "import csv\n",
    "import matplotlib.pyplot as plt\n",
    "import numpy as np\n",
    "import pandas as pd"
   ]
  },
  {
   "cell_type": "markdown",
   "metadata": {},
   "source": [
    "## **2. Data Import**"
   ]
  },
  {
   "cell_type": "markdown",
   "metadata": {},
   "source": [
    "*This section is how you import the data into the notebook. It should be written in such a way that I can modify it to run on my own machine by simply changing the location of the training data and any additional data sources that you have used.*"
   ]
  },
  {
   "cell_type": "code",
   "execution_count": 115,
   "metadata": {},
   "outputs": [],
   "source": [
    "ORIGINAL_MATCH_HISTORY = '../dataset/match_history.csv'\n",
    "\n",
    "INTERPOLATED_MATCH_HISTORY = '../dataset/reconstructed/interpolated_match_history.csv'\n",
    "LINEAR_REGRESSION_MATCH_HISTORY = '../dataset/reconstructed/linear_regression_match_history.csv'\n",
    "NEW_FEATURE_INTERPOLATED_MATCH_HISTORY = '../dataset/reconstructed/new_features_interpolated_match_history.csv'\n",
    "NEW_FEATURE_LINEAR_REGRESSION_MATCH_HISTORY = '../dataset/reconstructed/new_features_linear_regression_match_history.csv'\n",
    "NEW_FEATURE_GAUSSIAN_MATCH_HISTORY = '../dataset/reconstructed/new_features_gaussian_match_history.csv'"
   ]
  },
  {
   "cell_type": "code",
   "execution_count": 116,
   "metadata": {},
   "outputs": [
    {
     "data": {
      "text/html": [
       "<div>\n",
       "<style scoped>\n",
       "    .dataframe tbody tr th:only-of-type {\n",
       "        vertical-align: middle;\n",
       "    }\n",
       "\n",
       "    .dataframe tbody tr th {\n",
       "        vertical-align: top;\n",
       "    }\n",
       "\n",
       "    .dataframe thead th {\n",
       "        text-align: right;\n",
       "    }\n",
       "</style>\n",
       "<table border=\"1\" class=\"dataframe\">\n",
       "  <thead>\n",
       "    <tr style=\"text-align: right;\">\n",
       "      <th></th>\n",
       "      <th>date</th>\n",
       "      <th>home_team</th>\n",
       "      <th>away_team</th>\n",
       "      <th>home_team_continent</th>\n",
       "      <th>away_team_continent</th>\n",
       "      <th>home_team_fifa_rank</th>\n",
       "      <th>away_team_fifa_rank</th>\n",
       "      <th>home_team_total_fifa_points</th>\n",
       "      <th>away_team_total_fifa_points</th>\n",
       "      <th>home_team_score</th>\n",
       "      <th>...</th>\n",
       "      <th>shoot_out</th>\n",
       "      <th>home_team_result</th>\n",
       "      <th>home_team_goalkeeper_score</th>\n",
       "      <th>away_team_goalkeeper_score</th>\n",
       "      <th>home_team_mean_defense_score</th>\n",
       "      <th>home_team_mean_offense_score</th>\n",
       "      <th>home_team_mean_midfield_score</th>\n",
       "      <th>away_team_mean_defense_score</th>\n",
       "      <th>away_team_mean_offense_score</th>\n",
       "      <th>away_team_mean_midfield_score</th>\n",
       "    </tr>\n",
       "  </thead>\n",
       "  <tbody>\n",
       "    <tr>\n",
       "      <th>0</th>\n",
       "      <td>2004-09-03</td>\n",
       "      <td>Spain</td>\n",
       "      <td>Scotland</td>\n",
       "      <td>Europe</td>\n",
       "      <td>Europe</td>\n",
       "      <td>3</td>\n",
       "      <td>67</td>\n",
       "      <td>0</td>\n",
       "      <td>0</td>\n",
       "      <td>1</td>\n",
       "      <td>...</td>\n",
       "      <td>No</td>\n",
       "      <td>Draw</td>\n",
       "      <td>94.0</td>\n",
       "      <td>84.0</td>\n",
       "      <td>86.5</td>\n",
       "      <td>89.3</td>\n",
       "      <td>89.5</td>\n",
       "      <td>80.2</td>\n",
       "      <td>79.7</td>\n",
       "      <td>81.8</td>\n",
       "    </tr>\n",
       "    <tr>\n",
       "      <th>1</th>\n",
       "      <td>2004-09-04</td>\n",
       "      <td>Albania</td>\n",
       "      <td>Greece</td>\n",
       "      <td>Europe</td>\n",
       "      <td>Europe</td>\n",
       "      <td>94</td>\n",
       "      <td>14</td>\n",
       "      <td>0</td>\n",
       "      <td>0</td>\n",
       "      <td>2</td>\n",
       "      <td>...</td>\n",
       "      <td>No</td>\n",
       "      <td>Win</td>\n",
       "      <td>NaN</td>\n",
       "      <td>90.0</td>\n",
       "      <td>NaN</td>\n",
       "      <td>59.0</td>\n",
       "      <td>74.5</td>\n",
       "      <td>82.8</td>\n",
       "      <td>83.7</td>\n",
       "      <td>85.2</td>\n",
       "    </tr>\n",
       "    <tr>\n",
       "      <th>2</th>\n",
       "      <td>2004-09-04</td>\n",
       "      <td>Austria</td>\n",
       "      <td>England</td>\n",
       "      <td>Europe</td>\n",
       "      <td>Europe</td>\n",
       "      <td>90</td>\n",
       "      <td>7</td>\n",
       "      <td>0</td>\n",
       "      <td>0</td>\n",
       "      <td>2</td>\n",
       "      <td>...</td>\n",
       "      <td>No</td>\n",
       "      <td>Draw</td>\n",
       "      <td>83.0</td>\n",
       "      <td>88.0</td>\n",
       "      <td>76.2</td>\n",
       "      <td>73.0</td>\n",
       "      <td>74.0</td>\n",
       "      <td>90.5</td>\n",
       "      <td>88.7</td>\n",
       "      <td>91.2</td>\n",
       "    </tr>\n",
       "    <tr>\n",
       "      <th>3</th>\n",
       "      <td>2004-09-04</td>\n",
       "      <td>Croatia</td>\n",
       "      <td>Hungary</td>\n",
       "      <td>Europe</td>\n",
       "      <td>Europe</td>\n",
       "      <td>25</td>\n",
       "      <td>76</td>\n",
       "      <td>0</td>\n",
       "      <td>0</td>\n",
       "      <td>3</td>\n",
       "      <td>...</td>\n",
       "      <td>No</td>\n",
       "      <td>Win</td>\n",
       "      <td>77.0</td>\n",
       "      <td>74.0</td>\n",
       "      <td>80.5</td>\n",
       "      <td>78.7</td>\n",
       "      <td>79.0</td>\n",
       "      <td>71.8</td>\n",
       "      <td>75.7</td>\n",
       "      <td>70.2</td>\n",
       "    </tr>\n",
       "    <tr>\n",
       "      <th>4</th>\n",
       "      <td>2004-09-04</td>\n",
       "      <td>Denmark</td>\n",
       "      <td>Ukraine</td>\n",
       "      <td>Europe</td>\n",
       "      <td>Europe</td>\n",
       "      <td>15</td>\n",
       "      <td>87</td>\n",
       "      <td>0</td>\n",
       "      <td>0</td>\n",
       "      <td>1</td>\n",
       "      <td>...</td>\n",
       "      <td>No</td>\n",
       "      <td>Draw</td>\n",
       "      <td>82.0</td>\n",
       "      <td>NaN</td>\n",
       "      <td>79.5</td>\n",
       "      <td>85.0</td>\n",
       "      <td>81.5</td>\n",
       "      <td>NaN</td>\n",
       "      <td>81.7</td>\n",
       "      <td>65.8</td>\n",
       "    </tr>\n",
       "    <tr>\n",
       "      <th>...</th>\n",
       "      <td>...</td>\n",
       "      <td>...</td>\n",
       "      <td>...</td>\n",
       "      <td>...</td>\n",
       "      <td>...</td>\n",
       "      <td>...</td>\n",
       "      <td>...</td>\n",
       "      <td>...</td>\n",
       "      <td>...</td>\n",
       "      <td>...</td>\n",
       "      <td>...</td>\n",
       "      <td>...</td>\n",
       "      <td>...</td>\n",
       "      <td>...</td>\n",
       "      <td>...</td>\n",
       "      <td>...</td>\n",
       "      <td>...</td>\n",
       "      <td>...</td>\n",
       "      <td>...</td>\n",
       "      <td>...</td>\n",
       "      <td>...</td>\n",
       "    </tr>\n",
       "    <tr>\n",
       "      <th>5636</th>\n",
       "      <td>2021-12-07</td>\n",
       "      <td>Algeria</td>\n",
       "      <td>Egypt</td>\n",
       "      <td>Africa</td>\n",
       "      <td>Africa</td>\n",
       "      <td>32</td>\n",
       "      <td>45</td>\n",
       "      <td>1508</td>\n",
       "      <td>1449</td>\n",
       "      <td>1</td>\n",
       "      <td>...</td>\n",
       "      <td>No</td>\n",
       "      <td>Draw</td>\n",
       "      <td>78.0</td>\n",
       "      <td>NaN</td>\n",
       "      <td>78.0</td>\n",
       "      <td>81.0</td>\n",
       "      <td>78.0</td>\n",
       "      <td>NaN</td>\n",
       "      <td>79.3</td>\n",
       "      <td>70.8</td>\n",
       "    </tr>\n",
       "    <tr>\n",
       "      <th>5637</th>\n",
       "      <td>2021-12-08</td>\n",
       "      <td>Mexico</td>\n",
       "      <td>Chile</td>\n",
       "      <td>North America</td>\n",
       "      <td>South America</td>\n",
       "      <td>14</td>\n",
       "      <td>24</td>\n",
       "      <td>1638</td>\n",
       "      <td>1541</td>\n",
       "      <td>2</td>\n",
       "      <td>...</td>\n",
       "      <td>No</td>\n",
       "      <td>Draw</td>\n",
       "      <td>80.0</td>\n",
       "      <td>79.0</td>\n",
       "      <td>76.8</td>\n",
       "      <td>82.7</td>\n",
       "      <td>78.2</td>\n",
       "      <td>75.5</td>\n",
       "      <td>76.7</td>\n",
       "      <td>78.2</td>\n",
       "    </tr>\n",
       "    <tr>\n",
       "      <th>5638</th>\n",
       "      <td>2021-12-11</td>\n",
       "      <td>Morocco</td>\n",
       "      <td>Algeria</td>\n",
       "      <td>Africa</td>\n",
       "      <td>Africa</td>\n",
       "      <td>28</td>\n",
       "      <td>32</td>\n",
       "      <td>1525</td>\n",
       "      <td>1508</td>\n",
       "      <td>2</td>\n",
       "      <td>...</td>\n",
       "      <td>Yes</td>\n",
       "      <td>Lose</td>\n",
       "      <td>82.0</td>\n",
       "      <td>78.0</td>\n",
       "      <td>81.2</td>\n",
       "      <td>81.7</td>\n",
       "      <td>76.2</td>\n",
       "      <td>78.0</td>\n",
       "      <td>81.0</td>\n",
       "      <td>78.0</td>\n",
       "    </tr>\n",
       "    <tr>\n",
       "      <th>5639</th>\n",
       "      <td>2021-12-18</td>\n",
       "      <td>Tunisia</td>\n",
       "      <td>Algeria</td>\n",
       "      <td>Africa</td>\n",
       "      <td>Africa</td>\n",
       "      <td>29</td>\n",
       "      <td>32</td>\n",
       "      <td>1512</td>\n",
       "      <td>1508</td>\n",
       "      <td>0</td>\n",
       "      <td>...</td>\n",
       "      <td>No</td>\n",
       "      <td>Lose</td>\n",
       "      <td>NaN</td>\n",
       "      <td>78.0</td>\n",
       "      <td>70.8</td>\n",
       "      <td>72.3</td>\n",
       "      <td>74.0</td>\n",
       "      <td>78.0</td>\n",
       "      <td>81.0</td>\n",
       "      <td>78.0</td>\n",
       "    </tr>\n",
       "    <tr>\n",
       "      <th>5640</th>\n",
       "      <td>2021-12-18</td>\n",
       "      <td>USA</td>\n",
       "      <td>Bosnia and Herzegovina</td>\n",
       "      <td>North America</td>\n",
       "      <td>Europe</td>\n",
       "      <td>12</td>\n",
       "      <td>61</td>\n",
       "      <td>1647</td>\n",
       "      <td>1392</td>\n",
       "      <td>1</td>\n",
       "      <td>...</td>\n",
       "      <td>No</td>\n",
       "      <td>Win</td>\n",
       "      <td>77.0</td>\n",
       "      <td>76.0</td>\n",
       "      <td>75.8</td>\n",
       "      <td>77.7</td>\n",
       "      <td>75.8</td>\n",
       "      <td>74.2</td>\n",
       "      <td>77.0</td>\n",
       "      <td>78.0</td>\n",
       "    </tr>\n",
       "  </tbody>\n",
       "</table>\n",
       "<p>5641 rows × 25 columns</p>\n",
       "</div>"
      ],
      "text/plain": [
       "            date home_team               away_team home_team_continent  \\\n",
       "0     2004-09-03     Spain                Scotland              Europe   \n",
       "1     2004-09-04   Albania                  Greece              Europe   \n",
       "2     2004-09-04   Austria                 England              Europe   \n",
       "3     2004-09-04   Croatia                 Hungary              Europe   \n",
       "4     2004-09-04   Denmark                 Ukraine              Europe   \n",
       "...          ...       ...                     ...                 ...   \n",
       "5636  2021-12-07   Algeria                   Egypt              Africa   \n",
       "5637  2021-12-08    Mexico                   Chile       North America   \n",
       "5638  2021-12-11   Morocco                 Algeria              Africa   \n",
       "5639  2021-12-18   Tunisia                 Algeria              Africa   \n",
       "5640  2021-12-18       USA  Bosnia and Herzegovina       North America   \n",
       "\n",
       "     away_team_continent  home_team_fifa_rank  away_team_fifa_rank  \\\n",
       "0                 Europe                    3                   67   \n",
       "1                 Europe                   94                   14   \n",
       "2                 Europe                   90                    7   \n",
       "3                 Europe                   25                   76   \n",
       "4                 Europe                   15                   87   \n",
       "...                  ...                  ...                  ...   \n",
       "5636              Africa                   32                   45   \n",
       "5637       South America                   14                   24   \n",
       "5638              Africa                   28                   32   \n",
       "5639              Africa                   29                   32   \n",
       "5640              Europe                   12                   61   \n",
       "\n",
       "      home_team_total_fifa_points  away_team_total_fifa_points  \\\n",
       "0                               0                            0   \n",
       "1                               0                            0   \n",
       "2                               0                            0   \n",
       "3                               0                            0   \n",
       "4                               0                            0   \n",
       "...                           ...                          ...   \n",
       "5636                         1508                         1449   \n",
       "5637                         1638                         1541   \n",
       "5638                         1525                         1508   \n",
       "5639                         1512                         1508   \n",
       "5640                         1647                         1392   \n",
       "\n",
       "      home_team_score  ...  shoot_out home_team_result  \\\n",
       "0                   1  ...         No             Draw   \n",
       "1                   2  ...         No              Win   \n",
       "2                   2  ...         No             Draw   \n",
       "3                   3  ...         No              Win   \n",
       "4                   1  ...         No             Draw   \n",
       "...               ...  ...        ...              ...   \n",
       "5636                1  ...         No             Draw   \n",
       "5637                2  ...         No             Draw   \n",
       "5638                2  ...        Yes             Lose   \n",
       "5639                0  ...         No             Lose   \n",
       "5640                1  ...         No              Win   \n",
       "\n",
       "     home_team_goalkeeper_score away_team_goalkeeper_score  \\\n",
       "0                          94.0                       84.0   \n",
       "1                           NaN                       90.0   \n",
       "2                          83.0                       88.0   \n",
       "3                          77.0                       74.0   \n",
       "4                          82.0                        NaN   \n",
       "...                         ...                        ...   \n",
       "5636                       78.0                        NaN   \n",
       "5637                       80.0                       79.0   \n",
       "5638                       82.0                       78.0   \n",
       "5639                        NaN                       78.0   \n",
       "5640                       77.0                       76.0   \n",
       "\n",
       "      home_team_mean_defense_score home_team_mean_offense_score  \\\n",
       "0                             86.5                         89.3   \n",
       "1                              NaN                         59.0   \n",
       "2                             76.2                         73.0   \n",
       "3                             80.5                         78.7   \n",
       "4                             79.5                         85.0   \n",
       "...                            ...                          ...   \n",
       "5636                          78.0                         81.0   \n",
       "5637                          76.8                         82.7   \n",
       "5638                          81.2                         81.7   \n",
       "5639                          70.8                         72.3   \n",
       "5640                          75.8                         77.7   \n",
       "\n",
       "     home_team_mean_midfield_score  away_team_mean_defense_score  \\\n",
       "0                             89.5                          80.2   \n",
       "1                             74.5                          82.8   \n",
       "2                             74.0                          90.5   \n",
       "3                             79.0                          71.8   \n",
       "4                             81.5                           NaN   \n",
       "...                            ...                           ...   \n",
       "5636                          78.0                           NaN   \n",
       "5637                          78.2                          75.5   \n",
       "5638                          76.2                          78.0   \n",
       "5639                          74.0                          78.0   \n",
       "5640                          75.8                          74.2   \n",
       "\n",
       "      away_team_mean_offense_score  away_team_mean_midfield_score  \n",
       "0                             79.7                           81.8  \n",
       "1                             83.7                           85.2  \n",
       "2                             88.7                           91.2  \n",
       "3                             75.7                           70.2  \n",
       "4                             81.7                           65.8  \n",
       "...                            ...                            ...  \n",
       "5636                          79.3                           70.8  \n",
       "5637                          76.7                           78.2  \n",
       "5638                          81.0                           78.0  \n",
       "5639                          81.0                           78.0  \n",
       "5640                          77.0                           78.0  \n",
       "\n",
       "[5641 rows x 25 columns]"
      ]
     },
     "execution_count": 116,
     "metadata": {},
     "output_type": "execute_result"
    }
   ],
   "source": [
    "train_dataset = ORIGINAL_MATCH_HISTORY\n",
    "df = pd.read_csv(train_dataset)\n",
    "df"
   ]
  },
  {
   "cell_type": "markdown",
   "metadata": {},
   "source": [
    "## **3. Data Transformation & Exploration**"
   ]
  },
  {
   "cell_type": "markdown",
   "metadata": {},
   "source": [
    "\"Any transformations that you apply to the data prior to training. Also, any exploration of the data that you performed such as visualization, feature selection, etc.\""
   ]
  },
  {
   "cell_type": "markdown",
   "metadata": {},
   "source": [
    "The following code produces four different graphs to visualise the key features in the dataset. It plots each of these features against FIFA rank, illustrating the general upward trend of teams performing better in all aspects the better their FIFA rank is."
   ]
  },
  {
   "cell_type": "code",
   "execution_count": 117,
   "metadata": {},
   "outputs": [
    {
     "ename": "UnicodeDecodeError",
     "evalue": "'charmap' codec can't decode byte 0x81 in position 1658: character maps to <undefined>",
     "output_type": "error",
     "traceback": [
      "\u001b[1;31m---------------------------------------------------------------------------\u001b[0m",
      "\u001b[1;31mUnicodeDecodeError\u001b[0m                        Traceback (most recent call last)",
      "\u001b[1;32mc:\\Users\\Sagat\\OneDrive\\Documents\\UCL\\Year 3\\BENG95\\Group CW\\Repo\\data-mining-group-coursework\\src\\final_notebook.ipynb Cell 13\u001b[0m in \u001b[0;36m<cell line: 48>\u001b[1;34m()\u001b[0m\n\u001b[0;32m     <a href='vscode-notebook-cell:/c%3A/Users/Sagat/OneDrive/Documents/UCL/Year%203/BENG95/Group%20CW/Repo/data-mining-group-coursework/src/final_notebook.ipynb#X15sZmlsZQ%3D%3D?line=43'>44</a>\u001b[0m             axs[i]\u001b[39m.\u001b[39mset_ylabel(\u001b[39m'\u001b[39m\u001b[39mScore\u001b[39m\u001b[39m'\u001b[39m)\n\u001b[0;32m     <a href='vscode-notebook-cell:/c%3A/Users/Sagat/OneDrive/Documents/UCL/Year%203/BENG95/Group%20CW/Repo/data-mining-group-coursework/src/final_notebook.ipynb#X15sZmlsZQ%3D%3D?line=45'>46</a>\u001b[0m         plt\u001b[39m.\u001b[39mshow()\n\u001b[1;32m---> <a href='vscode-notebook-cell:/c%3A/Users/Sagat/OneDrive/Documents/UCL/Year%203/BENG95/Group%20CW/Repo/data-mining-group-coursework/src/final_notebook.ipynb#X15sZmlsZQ%3D%3D?line=47'>48</a>\u001b[0m plot_fifa_score(ORIGINAL_MATCH_HISTORY)\n",
      "\u001b[1;32mc:\\Users\\Sagat\\OneDrive\\Documents\\UCL\\Year 3\\BENG95\\Group CW\\Repo\\data-mining-group-coursework\\src\\final_notebook.ipynb Cell 13\u001b[0m in \u001b[0;36mplot_fifa_score\u001b[1;34m(original_data)\u001b[0m\n\u001b[0;32m     <a href='vscode-notebook-cell:/c%3A/Users/Sagat/OneDrive/Documents/UCL/Year%203/BENG95/Group%20CW/Repo/data-mining-group-coursework/src/final_notebook.ipynb#X15sZmlsZQ%3D%3D?line=16'>17</a>\u001b[0m ranks \u001b[39m=\u001b[39m []\n\u001b[0;32m     <a href='vscode-notebook-cell:/c%3A/Users/Sagat/OneDrive/Documents/UCL/Year%203/BENG95/Group%20CW/Repo/data-mining-group-coursework/src/final_notebook.ipynb#X15sZmlsZQ%3D%3D?line=17'>18</a>\u001b[0m features \u001b[39m=\u001b[39m {\u001b[39m'\u001b[39m\u001b[39mGoalkeeper\u001b[39m\u001b[39m'\u001b[39m: [], \u001b[39m'\u001b[39m\u001b[39mDefense\u001b[39m\u001b[39m'\u001b[39m: [], \u001b[39m'\u001b[39m\u001b[39mOffense\u001b[39m\u001b[39m'\u001b[39m: [], \u001b[39m'\u001b[39m\u001b[39mMidfield\u001b[39m\u001b[39m'\u001b[39m: []}\n\u001b[1;32m---> <a href='vscode-notebook-cell:/c%3A/Users/Sagat/OneDrive/Documents/UCL/Year%203/BENG95/Group%20CW/Repo/data-mining-group-coursework/src/final_notebook.ipynb#X15sZmlsZQ%3D%3D?line=19'>20</a>\u001b[0m \u001b[39mfor\u001b[39;00m row \u001b[39min\u001b[39;00m csv_reader:\n\u001b[0;32m     <a href='vscode-notebook-cell:/c%3A/Users/Sagat/OneDrive/Documents/UCL/Year%203/BENG95/Group%20CW/Repo/data-mining-group-coursework/src/final_notebook.ipynb#X15sZmlsZQ%3D%3D?line=20'>21</a>\u001b[0m     \u001b[39m# Get the correct features from the dataset for both\u001b[39;00m\n\u001b[0;32m     <a href='vscode-notebook-cell:/c%3A/Users/Sagat/OneDrive/Documents/UCL/Year%203/BENG95/Group%20CW/Repo/data-mining-group-coursework/src/final_notebook.ipynb#X15sZmlsZQ%3D%3D?line=21'>22</a>\u001b[0m     \u001b[39m# the home and away team.\u001b[39;00m\n\u001b[0;32m     <a href='vscode-notebook-cell:/c%3A/Users/Sagat/OneDrive/Documents/UCL/Year%203/BENG95/Group%20CW/Repo/data-mining-group-coursework/src/final_notebook.ipynb#X15sZmlsZQ%3D%3D?line=22'>23</a>\u001b[0m     home_features \u001b[39m=\u001b[39m [row[i] \u001b[39mfor\u001b[39;00m i \u001b[39min\u001b[39;00m HOME_FEATURE_INDEXES]\n\u001b[0;32m     <a href='vscode-notebook-cell:/c%3A/Users/Sagat/OneDrive/Documents/UCL/Year%203/BENG95/Group%20CW/Repo/data-mining-group-coursework/src/final_notebook.ipynb#X15sZmlsZQ%3D%3D?line=23'>24</a>\u001b[0m     away_features \u001b[39m=\u001b[39m [row[i] \u001b[39mfor\u001b[39;00m i \u001b[39min\u001b[39;00m AWAY_FEATURE_INDEXES]\n",
      "File \u001b[1;32mc:\\Users\\Sagat\\anaconda3\\lib\\encodings\\cp1252.py:23\u001b[0m, in \u001b[0;36mIncrementalDecoder.decode\u001b[1;34m(self, input, final)\u001b[0m\n\u001b[0;32m     22\u001b[0m \u001b[39mdef\u001b[39;00m \u001b[39mdecode\u001b[39m(\u001b[39mself\u001b[39m, \u001b[39minput\u001b[39m, final\u001b[39m=\u001b[39m\u001b[39mFalse\u001b[39;00m):\n\u001b[1;32m---> 23\u001b[0m     \u001b[39mreturn\u001b[39;00m codecs\u001b[39m.\u001b[39;49mcharmap_decode(\u001b[39minput\u001b[39;49m,\u001b[39mself\u001b[39;49m\u001b[39m.\u001b[39;49merrors,decoding_table)[\u001b[39m0\u001b[39m]\n",
      "\u001b[1;31mUnicodeDecodeError\u001b[0m: 'charmap' codec can't decode byte 0x81 in position 1658: character maps to <undefined>"
     ]
    }
   ],
   "source": [
    "HOME_FEATURE_INDEXES = [17, 19, 20, 21]\n",
    "AWAY_FEATURE_INDEXES = [18, 22, 23, 24]\n",
    "HOME_TEAM_FIFA_RANK = 5\n",
    "AWAY_TEAM_FIFA_RANK = 6\n",
    "PLOT_TITLES = ['Goalkeeper', 'Defense', 'Offense', 'Midfield']\n",
    "PLOT_COLOURS = 'rbgm'\n",
    "\n",
    "\n",
    "def plot_fifa_score(original_data: str) -> None:\n",
    "    '''\n",
    "    Pull data from the given csv and plot 4 graphs, different features from the dataset against FIFA rank.\n",
    "    '''\n",
    "    with open(original_data) as csv_in_file:\n",
    "        csv_reader = csv.reader(csv_in_file)\n",
    "        next(csv_reader)\n",
    "\n",
    "        ranks = []\n",
    "        features = {'Goalkeeper': [], 'Defense': [], 'Offense': [], 'Midfield': []}\n",
    "\n",
    "        for row in csv_reader:\n",
    "            # Get the correct features from the dataset for both\n",
    "            # the home and away team.\n",
    "            home_features = [row[i] for i in HOME_FEATURE_INDEXES]\n",
    "            away_features = [row[i] for i in AWAY_FEATURE_INDEXES]\n",
    "\n",
    "            # Only append the data and rank of the corresponding team if the data points\n",
    "            # are fully intact and have no missing features.\n",
    "            if '' not in home_features and '' not in away_features:\n",
    "                ranks.append(int(row[HOME_TEAM_FIFA_RANK]))\n",
    "                ranks.append(int(row[AWAY_TEAM_FIFA_RANK]))\n",
    "                for i, score in enumerate(PLOT_TITLES):\n",
    "                    new_points = [float(home_features[i]), float(away_features[i])]\n",
    "                    features[score].extend(new_points)\n",
    "\n",
    "        # Plot all four graphs on the same figure, with seperate colours and titles.\n",
    "        fig, axs = plt.subplots(4, 1, constrained_layout=True)\n",
    "        fig.suptitle('A plot of different score metrics by FIFA ranking')\n",
    "\n",
    "        plot_data = zip(PLOT_COLOURS, features.items())\n",
    "        for i, (colour, (title, data)) in enumerate(plot_data):\n",
    "            axs[i].scatter(ranks, data, s=10, c=colour, marker='.')\n",
    "            axs[i].set_title(f'{title} by FIFA rank')\n",
    "            axs[i].set_xlabel('FIFA rank')\n",
    "            axs[i].set_ylabel('Score')\n",
    "\n",
    "        plt.show()\n",
    "\n",
    "plot_fifa_score(ORIGINAL_MATCH_HISTORY)"
   ]
  },
  {
   "cell_type": "markdown",
   "metadata": {},
   "source": [
    "## Linear Interpolation Reconstruction"
   ]
  },
  {
   "cell_type": "markdown",
   "metadata": {},
   "source": [
    "The following code using Pandas' Series.interpolate() function to replace NaN values in the original dataset with linearly interpolated values, for each of the four features that have missing data."
   ]
  },
  {
   "cell_type": "code",
   "execution_count": null,
   "metadata": {},
   "outputs": [],
   "source": [
    "def interpolote_missing_data(original_data: str) -> dict:\n",
    "    '''Interpolate completely missing features using Pandas .interpolate()'''\n",
    "\n",
    "    with open(original_data) as csv_in_file:\n",
    "        csv_reader = csv.reader(csv_in_file)\n",
    "        next(csv_reader)\n",
    "\n",
    "        features = {'Goalkeeper': [], 'Defense': [], 'Offense': [], 'Midfield': []}\n",
    "        interpolated_features = {'Goalkeeper': [], 'Defense': [], 'Offense': [], 'Midfield': []}\n",
    "\n",
    "        for row in csv_reader:\n",
    "            # Get the correct features from the dataset for both\n",
    "            # the home and away team\n",
    "            home_features = [row[i] for i in HOME_FEATURE_INDEXES]\n",
    "            away_features = [row[i] for i in AWAY_FEATURE_INDEXES]\n",
    "            \n",
    "            # Append a tuple of (FIFA rank, value) to the feature dictionary for each type of score,\n",
    "            # where the value is replace with a NumPy NaN value if it is missing\n",
    "            for i, score in enumerate(PLOT_TITLES):\n",
    "                home_val = np.nan if home_features[i] == '' else home_features[i]\n",
    "                away_val = np.nan if away_features[i] == '' else away_features[i]\n",
    "                features[score].append((int(row[HOME_TEAM_FIFA_RANK]), (home_val)))\n",
    "                features[score].append((int(row[AWAY_TEAM_FIFA_RANK]), (away_val)))\n",
    "\n",
    "        # For each different score type, order the list in the dictionary by FIFA rank, create a\n",
    "        # pandas Series using the values, and replace the NaN values through linear interpolation.\n",
    "        # Insert these new values into a new dictionary and return \n",
    "        for i, score in enumerate(PLOT_TITLES):\n",
    "            sorted_score = [float(s) for (_, s) in sorted(features[score], key=lambda x: x[0])]\n",
    "            interpolated_features[score] = list(pd.Series(sorted_score).interpolate())\n",
    "    return interpolated_features"
   ]
  },
  {
   "cell_type": "code",
   "execution_count": null,
   "metadata": {},
   "outputs": [],
   "source": [
    "def get_averages(original_data: str) -> dict:\n",
    "    '''\n",
    "    Find average values for each 4 features for each country.\n",
    "    '''\n",
    "\n",
    "    countries = {}\n",
    "\n",
    "    with open(original_data) as csv_file:\n",
    "        csv_reader = csv.reader(csv_file)\n",
    "        next(csv_reader)\n",
    "        count = 0\n",
    "        \n",
    "        # For each row in the original match_history.csv file, loop over all of the rows\n",
    "        # and keep a running total of each of the 4 scores in PLOT_TITLES, for each country, along\n",
    "        # with the number of times that that feature was seen for said country (since sometimes\n",
    "        # they are missing) and insert the values into a dictionary.\n",
    "        for row in csv_reader:\n",
    "            if '' in row:\n",
    "                count += 1\n",
    "            home_country, away_country = row[1], row[2]\n",
    "            home_features = [row[i] for i in HOME_FEATURE_INDEXES]\n",
    "            away_features = [row[i] for i in AWAY_FEATURE_INDEXES]\n",
    "\n",
    "            if home_country not in countries.keys():\n",
    "                countries[home_country] = [[0, 0], [0, 0], [0, 0], [0, 0]]\n",
    "            if away_country not in countries.keys():\n",
    "                countries[away_country] = [[0, 0], [0, 0], [0, 0], [0, 0]]\n",
    "\n",
    "            for i, val in enumerate(home_features):\n",
    "                if val != '':\n",
    "                    countries[home_country][i][0] += float(val)\n",
    "                    countries[home_country][i][1] += 1\n",
    "\n",
    "            for i, val in enumerate(away_features):\n",
    "                if val != '':\n",
    "                    countries[away_country][i][0] += float(val)\n",
    "                    countries[away_country][i][1] += 1\n",
    "        \n",
    "        # For each country in the dictionary, replace the list of score totals and counts with\n",
    "        # their corresponding calculated averages and return.\n",
    "        for country, vals in countries.items():\n",
    "            averages = [round(val / max(1, count), 1) for [val, count] in vals]\n",
    "            countries[country] = averages\n",
    "        # Show which countries have at least one feature completely missing in the dataset\n",
    "        for country, vals in countries.items():\n",
    "            if 0.0 in vals:\n",
    "                print(f'{country} has a completely missing value.')\n",
    "    return countries"
   ]
  },
  {
   "cell_type": "code",
   "execution_count": null,
   "metadata": {},
   "outputs": [],
   "source": [
    "def write_interpolated_data(original_data: str, new_data: str, countries: dict) -> None:\n",
    "    '''\n",
    "    For each row in the input csv, write to the output csv filling in missisng\n",
    "    values, with that countries average for that feature.\n",
    "    '''\n",
    "\n",
    "    with open(original_data) as csv_in, open(new_data, 'w+') as csv_out:\n",
    "        csv_reader = csv.reader(csv_in)\n",
    "        csv_writer = csv.writer(csv_out)\n",
    "        csv_writer.writerow(next(csv_reader))\n",
    "        \n",
    "        # Gather interpolated data \n",
    "        interpolated_features = interpolote_missing_data(original_data)\n",
    "        \n",
    "        # For each row in the original match_history.csv file, loop over all of the records.\n",
    "        # If any record has a value missing value, check whether the corresponding country has an average\n",
    "        # for the missing feature. If so, replace the missing data with that average, if not, replace it\n",
    "        # with the interpolated value. Finally, write the updated data into a new .csv file.\n",
    "        for row in csv_reader:\n",
    "            for i, val in enumerate(row):\n",
    "                if val == '':\n",
    "                    if i in HOME_FEATURE_INDEXES:\n",
    "                        replace_index = HOME_FEATURE_INDEXES.index(i)\n",
    "                        if countries[row[1]][replace_index] == 0.0:\n",
    "                            score_type = PLOT_TITLES[replace_index]\n",
    "                            row[i] = round(interpolated_features[score_type][int(row[HOME_TEAM_FIFA_RANK])], 1)\n",
    "                        else:\n",
    "                            row[i] = countries[row[1]][replace_index]\n",
    "\n",
    "                    elif i in AWAY_FEATURE_INDEXES:\n",
    "                        replace_index = AWAY_FEATURE_INDEXES.index(i)\n",
    "                        if countries[row[2]][replace_index] == 0.0:\n",
    "                            score_type = PLOT_TITLES[replace_index]\n",
    "                            row[i] = round(interpolated_features[score_type][int(row[AWAY_TEAM_FIFA_RANK])], 1)\n",
    "                        else:\n",
    "                            row[i] = countries[row[2]][replace_index]\n",
    "            csv_writer.writerow(row)"
   ]
  },
  {
   "cell_type": "code",
   "execution_count": null,
   "metadata": {},
   "outputs": [
    {
     "ename": "UnicodeDecodeError",
     "evalue": "'charmap' codec can't decode byte 0x81 in position 1658: character maps to <undefined>",
     "output_type": "error",
     "traceback": [
      "\u001b[1;31m---------------------------------------------------------------------------\u001b[0m",
      "\u001b[1;31mUnicodeDecodeError\u001b[0m                        Traceback (most recent call last)",
      "\u001b[1;32mc:\\Users\\Sagat\\OneDrive\\Documents\\UCL\\Year 3\\BENG95\\Group CW\\Repo\\data-mining-group-coursework\\src\\final_notebook.ipynb Cell 19\u001b[0m in \u001b[0;36m<cell line: 13>\u001b[1;34m()\u001b[0m\n\u001b[0;32m      <a href='vscode-notebook-cell:/c%3A/Users/Sagat/OneDrive/Documents/UCL/Year%203/BENG95/Group%20CW/Repo/data-mining-group-coursework/src/final_notebook.ipynb#X24sZmlsZQ%3D%3D?line=6'>7</a>\u001b[0m     write_interpolated_data(original_data, new_data, countries)\n\u001b[0;32m     <a href='vscode-notebook-cell:/c%3A/Users/Sagat/OneDrive/Documents/UCL/Year%203/BENG95/Group%20CW/Repo/data-mining-group-coursework/src/final_notebook.ipynb#X24sZmlsZQ%3D%3D?line=9'>10</a>\u001b[0m \u001b[39m# Reconstruct the missing data with linear interpolation and show the results\u001b[39;00m\n\u001b[0;32m     <a href='vscode-notebook-cell:/c%3A/Users/Sagat/OneDrive/Documents/UCL/Year%203/BENG95/Group%20CW/Repo/data-mining-group-coursework/src/final_notebook.ipynb#X24sZmlsZQ%3D%3D?line=10'>11</a>\u001b[0m \u001b[39m# Note that home_team_total_fifa_points and away_team_total_fifa_points are not \u001b[39;00m\n\u001b[0;32m     <a href='vscode-notebook-cell:/c%3A/Users/Sagat/OneDrive/Documents/UCL/Year%203/BENG95/Group%20CW/Repo/data-mining-group-coursework/src/final_notebook.ipynb#X24sZmlsZQ%3D%3D?line=11'>12</a>\u001b[0m \u001b[39m# included in this reconstruction, because they are not being used in our regresion models\u001b[39;00m\n\u001b[1;32m---> <a href='vscode-notebook-cell:/c%3A/Users/Sagat/OneDrive/Documents/UCL/Year%203/BENG95/Group%20CW/Repo/data-mining-group-coursework/src/final_notebook.ipynb#X24sZmlsZQ%3D%3D?line=12'>13</a>\u001b[0m reconstruct_with_interpolation(ORIGINAL_MATCH_HISTORY, INTERPOLATED_MATCH_HISTORY)\n\u001b[0;32m     <a href='vscode-notebook-cell:/c%3A/Users/Sagat/OneDrive/Documents/UCL/Year%203/BENG95/Group%20CW/Repo/data-mining-group-coursework/src/final_notebook.ipynb#X24sZmlsZQ%3D%3D?line=13'>14</a>\u001b[0m df \u001b[39m=\u001b[39m pd\u001b[39m.\u001b[39mread_csv(INTERPOLATED_MATCH_HISTORY)\n\u001b[0;32m     <a href='vscode-notebook-cell:/c%3A/Users/Sagat/OneDrive/Documents/UCL/Year%203/BENG95/Group%20CW/Repo/data-mining-group-coursework/src/final_notebook.ipynb#X24sZmlsZQ%3D%3D?line=14'>15</a>\u001b[0m df\n",
      "\u001b[1;32mc:\\Users\\Sagat\\OneDrive\\Documents\\UCL\\Year 3\\BENG95\\Group CW\\Repo\\data-mining-group-coursework\\src\\final_notebook.ipynb Cell 19\u001b[0m in \u001b[0;36mreconstruct_with_interpolation\u001b[1;34m(original_data, new_data)\u001b[0m\n\u001b[0;32m      <a href='vscode-notebook-cell:/c%3A/Users/Sagat/OneDrive/Documents/UCL/Year%203/BENG95/Group%20CW/Repo/data-mining-group-coursework/src/final_notebook.ipynb#X24sZmlsZQ%3D%3D?line=0'>1</a>\u001b[0m \u001b[39mdef\u001b[39;00m \u001b[39mreconstruct_with_interpolation\u001b[39m(original_data: \u001b[39mstr\u001b[39m, new_data: \u001b[39mstr\u001b[39m) \u001b[39m-\u001b[39m\u001b[39m>\u001b[39m \u001b[39mNone\u001b[39;00m:\n\u001b[0;32m      <a href='vscode-notebook-cell:/c%3A/Users/Sagat/OneDrive/Documents/UCL/Year%203/BENG95/Group%20CW/Repo/data-mining-group-coursework/src/final_notebook.ipynb#X24sZmlsZQ%3D%3D?line=1'>2</a>\u001b[0m     \u001b[39m'''\u001b[39;00m\n\u001b[0;32m      <a href='vscode-notebook-cell:/c%3A/Users/Sagat/OneDrive/Documents/UCL/Year%203/BENG95/Group%20CW/Repo/data-mining-group-coursework/src/final_notebook.ipynb#X24sZmlsZQ%3D%3D?line=2'>3</a>\u001b[0m \u001b[39m    Reconstruct the missing data in original_data, write to new new_data csv.\u001b[39;00m\n\u001b[0;32m      <a href='vscode-notebook-cell:/c%3A/Users/Sagat/OneDrive/Documents/UCL/Year%203/BENG95/Group%20CW/Repo/data-mining-group-coursework/src/final_notebook.ipynb#X24sZmlsZQ%3D%3D?line=3'>4</a>\u001b[0m \u001b[39m    '''\u001b[39;00m\n\u001b[1;32m----> <a href='vscode-notebook-cell:/c%3A/Users/Sagat/OneDrive/Documents/UCL/Year%203/BENG95/Group%20CW/Repo/data-mining-group-coursework/src/final_notebook.ipynb#X24sZmlsZQ%3D%3D?line=5'>6</a>\u001b[0m     countries \u001b[39m=\u001b[39m get_averages(original_data)\n\u001b[0;32m      <a href='vscode-notebook-cell:/c%3A/Users/Sagat/OneDrive/Documents/UCL/Year%203/BENG95/Group%20CW/Repo/data-mining-group-coursework/src/final_notebook.ipynb#X24sZmlsZQ%3D%3D?line=6'>7</a>\u001b[0m     write_interpolated_data(original_data, new_data, countries)\n",
      "\u001b[1;32mc:\\Users\\Sagat\\OneDrive\\Documents\\UCL\\Year 3\\BENG95\\Group CW\\Repo\\data-mining-group-coursework\\src\\final_notebook.ipynb Cell 19\u001b[0m in \u001b[0;36mget_averages\u001b[1;34m(original_data)\u001b[0m\n\u001b[0;32m     <a href='vscode-notebook-cell:/c%3A/Users/Sagat/OneDrive/Documents/UCL/Year%203/BENG95/Group%20CW/Repo/data-mining-group-coursework/src/final_notebook.ipynb#X24sZmlsZQ%3D%3D?line=10'>11</a>\u001b[0m count \u001b[39m=\u001b[39m \u001b[39m0\u001b[39m\n\u001b[0;32m     <a href='vscode-notebook-cell:/c%3A/Users/Sagat/OneDrive/Documents/UCL/Year%203/BENG95/Group%20CW/Repo/data-mining-group-coursework/src/final_notebook.ipynb#X24sZmlsZQ%3D%3D?line=12'>13</a>\u001b[0m \u001b[39m# For each row in the original match_history.csv file, loop over all of the rows\u001b[39;00m\n\u001b[0;32m     <a href='vscode-notebook-cell:/c%3A/Users/Sagat/OneDrive/Documents/UCL/Year%203/BENG95/Group%20CW/Repo/data-mining-group-coursework/src/final_notebook.ipynb#X24sZmlsZQ%3D%3D?line=13'>14</a>\u001b[0m \u001b[39m# and keep a running total of each of the 4 scores in PLOT_TITLES, for each country, along\u001b[39;00m\n\u001b[0;32m     <a href='vscode-notebook-cell:/c%3A/Users/Sagat/OneDrive/Documents/UCL/Year%203/BENG95/Group%20CW/Repo/data-mining-group-coursework/src/final_notebook.ipynb#X24sZmlsZQ%3D%3D?line=14'>15</a>\u001b[0m \u001b[39m# with the number of times that that feature was seen for said country (since sometimes\u001b[39;00m\n\u001b[0;32m     <a href='vscode-notebook-cell:/c%3A/Users/Sagat/OneDrive/Documents/UCL/Year%203/BENG95/Group%20CW/Repo/data-mining-group-coursework/src/final_notebook.ipynb#X24sZmlsZQ%3D%3D?line=15'>16</a>\u001b[0m \u001b[39m# they are missing) and insert the values into a dictionary.\u001b[39;00m\n\u001b[1;32m---> <a href='vscode-notebook-cell:/c%3A/Users/Sagat/OneDrive/Documents/UCL/Year%203/BENG95/Group%20CW/Repo/data-mining-group-coursework/src/final_notebook.ipynb#X24sZmlsZQ%3D%3D?line=16'>17</a>\u001b[0m \u001b[39mfor\u001b[39;00m row \u001b[39min\u001b[39;00m csv_reader:\n\u001b[0;32m     <a href='vscode-notebook-cell:/c%3A/Users/Sagat/OneDrive/Documents/UCL/Year%203/BENG95/Group%20CW/Repo/data-mining-group-coursework/src/final_notebook.ipynb#X24sZmlsZQ%3D%3D?line=17'>18</a>\u001b[0m     \u001b[39mif\u001b[39;00m \u001b[39m'\u001b[39m\u001b[39m'\u001b[39m \u001b[39min\u001b[39;00m row:\n\u001b[0;32m     <a href='vscode-notebook-cell:/c%3A/Users/Sagat/OneDrive/Documents/UCL/Year%203/BENG95/Group%20CW/Repo/data-mining-group-coursework/src/final_notebook.ipynb#X24sZmlsZQ%3D%3D?line=18'>19</a>\u001b[0m         count \u001b[39m+\u001b[39m\u001b[39m=\u001b[39m \u001b[39m1\u001b[39m\n",
      "File \u001b[1;32mc:\\Users\\Sagat\\anaconda3\\lib\\encodings\\cp1252.py:23\u001b[0m, in \u001b[0;36mIncrementalDecoder.decode\u001b[1;34m(self, input, final)\u001b[0m\n\u001b[0;32m     22\u001b[0m \u001b[39mdef\u001b[39;00m \u001b[39mdecode\u001b[39m(\u001b[39mself\u001b[39m, \u001b[39minput\u001b[39m, final\u001b[39m=\u001b[39m\u001b[39mFalse\u001b[39;00m):\n\u001b[1;32m---> 23\u001b[0m     \u001b[39mreturn\u001b[39;00m codecs\u001b[39m.\u001b[39;49mcharmap_decode(\u001b[39minput\u001b[39;49m,\u001b[39mself\u001b[39;49m\u001b[39m.\u001b[39;49merrors,decoding_table)[\u001b[39m0\u001b[39m]\n",
      "\u001b[1;31mUnicodeDecodeError\u001b[0m: 'charmap' codec can't decode byte 0x81 in position 1658: character maps to <undefined>"
     ]
    }
   ],
   "source": [
    "def reconstruct_with_interpolation(original_data: str, new_data: str) -> None:\n",
    "    '''\n",
    "    Reconstruct the missing data in original_data, write to new new_data csv.\n",
    "    '''\n",
    "\n",
    "    countries = get_averages(original_data)\n",
    "    write_interpolated_data(original_data, new_data, countries)\n",
    "\n",
    "    \n",
    "# Reconstruct the missing data with linear interpolation and show the results\n",
    "# Note that home_team_total_fifa_points and away_team_total_fifa_points are not \n",
    "# included in this reconstruction, because they are not being used in our regresion models\n",
    "reconstruct_with_interpolation(ORIGINAL_MATCH_HISTORY, INTERPOLATED_MATCH_HISTORY)\n",
    "df = pd.read_csv(INTERPOLATED_MATCH_HISTORY)\n",
    "df"
   ]
  },
  {
   "cell_type": "markdown",
   "metadata": {},
   "source": [
    "## Linear Regression Reconstruction"
   ]
  },
  {
   "cell_type": "markdown",
   "metadata": {},
   "source": [
    "## Gaussian Distribution Reconstruction"
   ]
  },
  {
   "attachments": {},
   "cell_type": "markdown",
   "metadata": {},
   "source": [
    "NOTE TO JAMES: \n",
    "DATA PREPARATION AND UTILITY PARTS ARE DEPENDENCIES FOR OTHER CODE"
   ]
  },
  {
   "attachments": {},
   "cell_type": "markdown",
   "metadata": {},
   "source": [
    "### Data Preparation"
   ]
  },
  {
   "cell_type": "code",
   "execution_count": 118,
   "metadata": {},
   "outputs": [],
   "source": [
    "train_dataset = ORIGINAL_MATCH_HISTORY\n",
    "g_df = pd.read_csv(train_dataset)"
   ]
  },
  {
   "cell_type": "code",
   "execution_count": 119,
   "metadata": {},
   "outputs": [
    {
     "name": "stderr",
     "output_type": "stream",
     "text": [
      "C:\\Users\\Sagat\\AppData\\Local\\Temp\\ipykernel_14444\\126057292.py:5: FutureWarning: The default value of regex will change from True to False in a future version.\n",
      "  g_df['date'] = g_df['date'].str.replace(r\"\\D\", \"\")\n"
     ]
    },
    {
     "data": {
      "text/html": [
       "<div>\n",
       "<style scoped>\n",
       "    .dataframe tbody tr th:only-of-type {\n",
       "        vertical-align: middle;\n",
       "    }\n",
       "\n",
       "    .dataframe tbody tr th {\n",
       "        vertical-align: top;\n",
       "    }\n",
       "\n",
       "    .dataframe thead th {\n",
       "        text-align: right;\n",
       "    }\n",
       "</style>\n",
       "<table border=\"1\" class=\"dataframe\">\n",
       "  <thead>\n",
       "    <tr style=\"text-align: right;\">\n",
       "      <th></th>\n",
       "      <th>date</th>\n",
       "      <th>home_team</th>\n",
       "      <th>away_team</th>\n",
       "      <th>home_team_continent</th>\n",
       "      <th>away_team_continent</th>\n",
       "      <th>home_team_fifa_rank</th>\n",
       "      <th>away_team_fifa_rank</th>\n",
       "      <th>home_team_total_fifa_points</th>\n",
       "      <th>away_team_total_fifa_points</th>\n",
       "      <th>home_team_score</th>\n",
       "      <th>...</th>\n",
       "      <th>shoot_out</th>\n",
       "      <th>home_team_result</th>\n",
       "      <th>home_team_goalkeeper_score</th>\n",
       "      <th>away_team_goalkeeper_score</th>\n",
       "      <th>home_team_mean_defense_score</th>\n",
       "      <th>home_team_mean_offense_score</th>\n",
       "      <th>home_team_mean_midfield_score</th>\n",
       "      <th>away_team_mean_defense_score</th>\n",
       "      <th>away_team_mean_offense_score</th>\n",
       "      <th>away_team_mean_midfield_score</th>\n",
       "    </tr>\n",
       "  </thead>\n",
       "  <tbody>\n",
       "    <tr>\n",
       "      <th>0</th>\n",
       "      <td>20040903</td>\n",
       "      <td>Spain</td>\n",
       "      <td>Scotland</td>\n",
       "      <td>Europe</td>\n",
       "      <td>Europe</td>\n",
       "      <td>3</td>\n",
       "      <td>67</td>\n",
       "      <td>0</td>\n",
       "      <td>0</td>\n",
       "      <td>1</td>\n",
       "      <td>...</td>\n",
       "      <td>No</td>\n",
       "      <td>1</td>\n",
       "      <td>94.0</td>\n",
       "      <td>84.0</td>\n",
       "      <td>86.5</td>\n",
       "      <td>89.3</td>\n",
       "      <td>89.5</td>\n",
       "      <td>80.2</td>\n",
       "      <td>79.7</td>\n",
       "      <td>81.8</td>\n",
       "    </tr>\n",
       "    <tr>\n",
       "      <th>1</th>\n",
       "      <td>20040904</td>\n",
       "      <td>Albania</td>\n",
       "      <td>Greece</td>\n",
       "      <td>Europe</td>\n",
       "      <td>Europe</td>\n",
       "      <td>94</td>\n",
       "      <td>14</td>\n",
       "      <td>0</td>\n",
       "      <td>0</td>\n",
       "      <td>2</td>\n",
       "      <td>...</td>\n",
       "      <td>No</td>\n",
       "      <td>2</td>\n",
       "      <td>0.0</td>\n",
       "      <td>90.0</td>\n",
       "      <td>0.0</td>\n",
       "      <td>59.0</td>\n",
       "      <td>74.5</td>\n",
       "      <td>82.8</td>\n",
       "      <td>83.7</td>\n",
       "      <td>85.2</td>\n",
       "    </tr>\n",
       "    <tr>\n",
       "      <th>2</th>\n",
       "      <td>20040904</td>\n",
       "      <td>Austria</td>\n",
       "      <td>England</td>\n",
       "      <td>Europe</td>\n",
       "      <td>Europe</td>\n",
       "      <td>90</td>\n",
       "      <td>7</td>\n",
       "      <td>0</td>\n",
       "      <td>0</td>\n",
       "      <td>2</td>\n",
       "      <td>...</td>\n",
       "      <td>No</td>\n",
       "      <td>1</td>\n",
       "      <td>83.0</td>\n",
       "      <td>88.0</td>\n",
       "      <td>76.2</td>\n",
       "      <td>73.0</td>\n",
       "      <td>74.0</td>\n",
       "      <td>90.5</td>\n",
       "      <td>88.7</td>\n",
       "      <td>91.2</td>\n",
       "    </tr>\n",
       "    <tr>\n",
       "      <th>3</th>\n",
       "      <td>20040904</td>\n",
       "      <td>Croatia</td>\n",
       "      <td>Hungary</td>\n",
       "      <td>Europe</td>\n",
       "      <td>Europe</td>\n",
       "      <td>25</td>\n",
       "      <td>76</td>\n",
       "      <td>0</td>\n",
       "      <td>0</td>\n",
       "      <td>3</td>\n",
       "      <td>...</td>\n",
       "      <td>No</td>\n",
       "      <td>2</td>\n",
       "      <td>77.0</td>\n",
       "      <td>74.0</td>\n",
       "      <td>80.5</td>\n",
       "      <td>78.7</td>\n",
       "      <td>79.0</td>\n",
       "      <td>71.8</td>\n",
       "      <td>75.7</td>\n",
       "      <td>70.2</td>\n",
       "    </tr>\n",
       "    <tr>\n",
       "      <th>4</th>\n",
       "      <td>20040904</td>\n",
       "      <td>Denmark</td>\n",
       "      <td>Ukraine</td>\n",
       "      <td>Europe</td>\n",
       "      <td>Europe</td>\n",
       "      <td>15</td>\n",
       "      <td>87</td>\n",
       "      <td>0</td>\n",
       "      <td>0</td>\n",
       "      <td>1</td>\n",
       "      <td>...</td>\n",
       "      <td>No</td>\n",
       "      <td>1</td>\n",
       "      <td>82.0</td>\n",
       "      <td>0.0</td>\n",
       "      <td>79.5</td>\n",
       "      <td>85.0</td>\n",
       "      <td>81.5</td>\n",
       "      <td>0.0</td>\n",
       "      <td>81.7</td>\n",
       "      <td>65.8</td>\n",
       "    </tr>\n",
       "    <tr>\n",
       "      <th>...</th>\n",
       "      <td>...</td>\n",
       "      <td>...</td>\n",
       "      <td>...</td>\n",
       "      <td>...</td>\n",
       "      <td>...</td>\n",
       "      <td>...</td>\n",
       "      <td>...</td>\n",
       "      <td>...</td>\n",
       "      <td>...</td>\n",
       "      <td>...</td>\n",
       "      <td>...</td>\n",
       "      <td>...</td>\n",
       "      <td>...</td>\n",
       "      <td>...</td>\n",
       "      <td>...</td>\n",
       "      <td>...</td>\n",
       "      <td>...</td>\n",
       "      <td>...</td>\n",
       "      <td>...</td>\n",
       "      <td>...</td>\n",
       "      <td>...</td>\n",
       "    </tr>\n",
       "    <tr>\n",
       "      <th>5636</th>\n",
       "      <td>20211207</td>\n",
       "      <td>Algeria</td>\n",
       "      <td>Egypt</td>\n",
       "      <td>Africa</td>\n",
       "      <td>Africa</td>\n",
       "      <td>32</td>\n",
       "      <td>45</td>\n",
       "      <td>1508</td>\n",
       "      <td>1449</td>\n",
       "      <td>1</td>\n",
       "      <td>...</td>\n",
       "      <td>No</td>\n",
       "      <td>1</td>\n",
       "      <td>78.0</td>\n",
       "      <td>0.0</td>\n",
       "      <td>78.0</td>\n",
       "      <td>81.0</td>\n",
       "      <td>78.0</td>\n",
       "      <td>0.0</td>\n",
       "      <td>79.3</td>\n",
       "      <td>70.8</td>\n",
       "    </tr>\n",
       "    <tr>\n",
       "      <th>5637</th>\n",
       "      <td>20211208</td>\n",
       "      <td>Mexico</td>\n",
       "      <td>Chile</td>\n",
       "      <td>North America</td>\n",
       "      <td>South America</td>\n",
       "      <td>14</td>\n",
       "      <td>24</td>\n",
       "      <td>1638</td>\n",
       "      <td>1541</td>\n",
       "      <td>2</td>\n",
       "      <td>...</td>\n",
       "      <td>No</td>\n",
       "      <td>1</td>\n",
       "      <td>80.0</td>\n",
       "      <td>79.0</td>\n",
       "      <td>76.8</td>\n",
       "      <td>82.7</td>\n",
       "      <td>78.2</td>\n",
       "      <td>75.5</td>\n",
       "      <td>76.7</td>\n",
       "      <td>78.2</td>\n",
       "    </tr>\n",
       "    <tr>\n",
       "      <th>5638</th>\n",
       "      <td>20211211</td>\n",
       "      <td>Morocco</td>\n",
       "      <td>Algeria</td>\n",
       "      <td>Africa</td>\n",
       "      <td>Africa</td>\n",
       "      <td>28</td>\n",
       "      <td>32</td>\n",
       "      <td>1525</td>\n",
       "      <td>1508</td>\n",
       "      <td>2</td>\n",
       "      <td>...</td>\n",
       "      <td>Yes</td>\n",
       "      <td>0</td>\n",
       "      <td>82.0</td>\n",
       "      <td>78.0</td>\n",
       "      <td>81.2</td>\n",
       "      <td>81.7</td>\n",
       "      <td>76.2</td>\n",
       "      <td>78.0</td>\n",
       "      <td>81.0</td>\n",
       "      <td>78.0</td>\n",
       "    </tr>\n",
       "    <tr>\n",
       "      <th>5639</th>\n",
       "      <td>20211218</td>\n",
       "      <td>Tunisia</td>\n",
       "      <td>Algeria</td>\n",
       "      <td>Africa</td>\n",
       "      <td>Africa</td>\n",
       "      <td>29</td>\n",
       "      <td>32</td>\n",
       "      <td>1512</td>\n",
       "      <td>1508</td>\n",
       "      <td>0</td>\n",
       "      <td>...</td>\n",
       "      <td>No</td>\n",
       "      <td>0</td>\n",
       "      <td>0.0</td>\n",
       "      <td>78.0</td>\n",
       "      <td>70.8</td>\n",
       "      <td>72.3</td>\n",
       "      <td>74.0</td>\n",
       "      <td>78.0</td>\n",
       "      <td>81.0</td>\n",
       "      <td>78.0</td>\n",
       "    </tr>\n",
       "    <tr>\n",
       "      <th>5640</th>\n",
       "      <td>20211218</td>\n",
       "      <td>USA</td>\n",
       "      <td>Bosnia and Herzegovina</td>\n",
       "      <td>North America</td>\n",
       "      <td>Europe</td>\n",
       "      <td>12</td>\n",
       "      <td>61</td>\n",
       "      <td>1647</td>\n",
       "      <td>1392</td>\n",
       "      <td>1</td>\n",
       "      <td>...</td>\n",
       "      <td>No</td>\n",
       "      <td>2</td>\n",
       "      <td>77.0</td>\n",
       "      <td>76.0</td>\n",
       "      <td>75.8</td>\n",
       "      <td>77.7</td>\n",
       "      <td>75.8</td>\n",
       "      <td>74.2</td>\n",
       "      <td>77.0</td>\n",
       "      <td>78.0</td>\n",
       "    </tr>\n",
       "  </tbody>\n",
       "</table>\n",
       "<p>5641 rows × 25 columns</p>\n",
       "</div>"
      ],
      "text/plain": [
       "          date home_team               away_team home_team_continent  \\\n",
       "0     20040903     Spain                Scotland              Europe   \n",
       "1     20040904   Albania                  Greece              Europe   \n",
       "2     20040904   Austria                 England              Europe   \n",
       "3     20040904   Croatia                 Hungary              Europe   \n",
       "4     20040904   Denmark                 Ukraine              Europe   \n",
       "...        ...       ...                     ...                 ...   \n",
       "5636  20211207   Algeria                   Egypt              Africa   \n",
       "5637  20211208    Mexico                   Chile       North America   \n",
       "5638  20211211   Morocco                 Algeria              Africa   \n",
       "5639  20211218   Tunisia                 Algeria              Africa   \n",
       "5640  20211218       USA  Bosnia and Herzegovina       North America   \n",
       "\n",
       "     away_team_continent  home_team_fifa_rank  away_team_fifa_rank  \\\n",
       "0                 Europe                    3                   67   \n",
       "1                 Europe                   94                   14   \n",
       "2                 Europe                   90                    7   \n",
       "3                 Europe                   25                   76   \n",
       "4                 Europe                   15                   87   \n",
       "...                  ...                  ...                  ...   \n",
       "5636              Africa                   32                   45   \n",
       "5637       South America                   14                   24   \n",
       "5638              Africa                   28                   32   \n",
       "5639              Africa                   29                   32   \n",
       "5640              Europe                   12                   61   \n",
       "\n",
       "      home_team_total_fifa_points  away_team_total_fifa_points  \\\n",
       "0                               0                            0   \n",
       "1                               0                            0   \n",
       "2                               0                            0   \n",
       "3                               0                            0   \n",
       "4                               0                            0   \n",
       "...                           ...                          ...   \n",
       "5636                         1508                         1449   \n",
       "5637                         1638                         1541   \n",
       "5638                         1525                         1508   \n",
       "5639                         1512                         1508   \n",
       "5640                         1647                         1392   \n",
       "\n",
       "      home_team_score  ...  shoot_out home_team_result  \\\n",
       "0                   1  ...         No                1   \n",
       "1                   2  ...         No                2   \n",
       "2                   2  ...         No                1   \n",
       "3                   3  ...         No                2   \n",
       "4                   1  ...         No                1   \n",
       "...               ...  ...        ...              ...   \n",
       "5636                1  ...         No                1   \n",
       "5637                2  ...         No                1   \n",
       "5638                2  ...        Yes                0   \n",
       "5639                0  ...         No                0   \n",
       "5640                1  ...         No                2   \n",
       "\n",
       "     home_team_goalkeeper_score away_team_goalkeeper_score  \\\n",
       "0                          94.0                       84.0   \n",
       "1                           0.0                       90.0   \n",
       "2                          83.0                       88.0   \n",
       "3                          77.0                       74.0   \n",
       "4                          82.0                        0.0   \n",
       "...                         ...                        ...   \n",
       "5636                       78.0                        0.0   \n",
       "5637                       80.0                       79.0   \n",
       "5638                       82.0                       78.0   \n",
       "5639                        0.0                       78.0   \n",
       "5640                       77.0                       76.0   \n",
       "\n",
       "      home_team_mean_defense_score home_team_mean_offense_score  \\\n",
       "0                             86.5                         89.3   \n",
       "1                              0.0                         59.0   \n",
       "2                             76.2                         73.0   \n",
       "3                             80.5                         78.7   \n",
       "4                             79.5                         85.0   \n",
       "...                            ...                          ...   \n",
       "5636                          78.0                         81.0   \n",
       "5637                          76.8                         82.7   \n",
       "5638                          81.2                         81.7   \n",
       "5639                          70.8                         72.3   \n",
       "5640                          75.8                         77.7   \n",
       "\n",
       "      home_team_mean_midfield_score  away_team_mean_defense_score  \\\n",
       "0                              89.5                          80.2   \n",
       "1                              74.5                          82.8   \n",
       "2                              74.0                          90.5   \n",
       "3                              79.0                          71.8   \n",
       "4                              81.5                           0.0   \n",
       "...                             ...                           ...   \n",
       "5636                           78.0                           0.0   \n",
       "5637                           78.2                          75.5   \n",
       "5638                           76.2                          78.0   \n",
       "5639                           74.0                          78.0   \n",
       "5640                           75.8                          74.2   \n",
       "\n",
       "      away_team_mean_offense_score  away_team_mean_midfield_score  \n",
       "0                             79.7                           81.8  \n",
       "1                             83.7                           85.2  \n",
       "2                             88.7                           91.2  \n",
       "3                             75.7                           70.2  \n",
       "4                             81.7                           65.8  \n",
       "...                            ...                            ...  \n",
       "5636                          79.3                           70.8  \n",
       "5637                          76.7                           78.2  \n",
       "5638                          81.0                           78.0  \n",
       "5639                          81.0                           78.0  \n",
       "5640                          77.0                           78.0  \n",
       "\n",
       "[5641 rows x 25 columns]"
      ]
     },
     "execution_count": 119,
     "metadata": {},
     "output_type": "execute_result"
    }
   ],
   "source": [
    "#Simple data modification\n",
    "g_df = g_df.fillna(0)\n",
    "g_df[\"home_team_result\"] = g_df[\"home_team_result\"].replace(['Lose', 'Draw', 'Win'], [0, 1, 2])\n",
    "g_df[\"neutral_location\"] = g_df[\"neutral_location\"].astype(int)\n",
    "g_df['date'] = g_df['date'].str.replace(r\"\\D\", \"\")\n",
    "\n",
    "g_df"
   ]
  },
  {
   "cell_type": "code",
   "execution_count": 120,
   "metadata": {},
   "outputs": [],
   "source": [
    "#Define variables for later use\n",
    "home_score = [\n",
    "    'home_team_goalkeeper_score', \n",
    "    'home_team_mean_defense_score', \n",
    "    'home_team_mean_offense_score',\n",
    "    'home_team_mean_midfield_score',\n",
    "]\n",
    "\n",
    "away_score = [\n",
    "    'away_team_goalkeeper_score',\n",
    "    'away_team_mean_defense_score',\n",
    "    'away_team_mean_offense_score', \n",
    "    'away_team_mean_midfield_score',\n",
    "]\n",
    "\n",
    "#country = np.unique(country_name, return_counts=True)\n",
    "country_list = g_df['home_team'].values\n",
    "country_list = np.unique(country_list)\n",
    "\n",
    "pos_score = [\n",
    "    'gk_score',\n",
    "    'def_score',\n",
    "    'mid_score',\n",
    "    'atk_score'\n",
    "    ]"
   ]
  },
  {
   "cell_type": "code",
   "execution_count": 121,
   "metadata": {},
   "outputs": [],
   "source": [
    "#Construct dictionary for later use\n",
    "\n",
    "scores = {}\n",
    "\n",
    "for index, row in g_df.iterrows():\n",
    "    home = row['home_team']\n",
    "    away = row['away_team']\n",
    "    \n",
    "    if home not in scores:\n",
    "        scores[home] = {}\n",
    "        scores[home]['gk_score'] = []\n",
    "        scores[home]['def_score'] = []\n",
    "        scores[home]['mid_score'] = []\n",
    "        scores[home]['atk_score'] = []\n",
    "        \n",
    "    if away not in scores:\n",
    "        scores[away] = {}\n",
    "        scores[away]['gk_score'] = []\n",
    "        scores[away]['def_score'] = []\n",
    "        scores[away]['mid_score'] = []\n",
    "        scores[away]['atk_score'] = []\n",
    "    \n",
    "    scores[home]['gk_score'].append([row['date'], row['home_team_goalkeeper_score']])\n",
    "    scores[home]['def_score'].append([row['date'], row['home_team_mean_defense_score']])\n",
    "    scores[home]['mid_score'].append([row['date'], row['home_team_mean_midfield_score']])\n",
    "    scores[home]['atk_score'].append([row['date'],row['home_team_mean_offense_score']])\n",
    "    \n",
    "    scores[away]['gk_score'].append([row['date'], row['away_team_goalkeeper_score']])\n",
    "    scores[away]['def_score'].append([row['date'], row['away_team_mean_defense_score']])\n",
    "    scores[away]['mid_score'].append([row['date'], row['away_team_mean_midfield_score']])\n",
    "    scores[away]['atk_score'].append([row['date'],row['away_team_mean_offense_score']])\n",
    "    "
   ]
  },
  {
   "attachments": {},
   "cell_type": "markdown",
   "metadata": {},
   "source": [
    "### Utility Functions"
   ]
  },
  {
   "cell_type": "code",
   "execution_count": 122,
   "metadata": {},
   "outputs": [],
   "source": [
    "# fetch according country, position_team_mean_score from dict scores \n",
    "# if 0 not included in the data, returns an empty list => no missing values, no prediction needed\n",
    "def fetch_country_pos_score(country, pos_score):\n",
    "    predict_target = []\n",
    "    model_data = []\n",
    "    \n",
    "    for item in scores[country][pos_score]:\n",
    "        if 0 in item:\n",
    "            predict_target.append(item)\n",
    "        else:\n",
    "            model_data.append(item)\n",
    "            \n",
    "    if predict_target == []:\n",
    "        #print(\"No missing values\")\n",
    "        return []\n",
    "            \n",
    "    else:\n",
    "        #if model_data == []:\n",
    "            #print(\"No data available\")\n",
    "        #else:\n",
    "            #print(\"Missing\", len(predict_target), \"values\")   \n",
    "        \n",
    "        data = [model_data, predict_target]\n",
    "\n",
    "        # model_data and predict_target to np float array\n",
    "        data[0] = np.array(data[0]).astype(float)\n",
    "        data[1] = np.array(data[1]).astype(float)\n",
    "\n",
    "        return data\n",
    "\n",
    "#fetch_country_pos_score('Albania','gk_score')"
   ]
  },
  {
   "cell_type": "code",
   "execution_count": 123,
   "metadata": {},
   "outputs": [],
   "source": [
    "def fetch_country_score(country):\n",
    "    data = []\n",
    "    \n",
    "    #index 0: gk, index 1: def, index 2: mid, index 3: atk\n",
    "    for score in pos_score:\n",
    "        #print(score,\": \",end = \"\")\n",
    "        data.append(fetch_country_pos_score(country,score))\n",
    "    \n",
    "    return data\n",
    "\n",
    "#fetch_country_score('Albania')"
   ]
  },
  {
   "attachments": {},
   "cell_type": "markdown",
   "metadata": {},
   "source": [
    "### Displaying Data"
   ]
  },
  {
   "cell_type": "code",
   "execution_count": 124,
   "metadata": {},
   "outputs": [],
   "source": [
    "import matplotlib.pyplot as plt\n",
    "\n",
    "# plot data based on country and pos_score info\n",
    "def show_model_data(country, pos_score):\n",
    "    data = fetch_country_pos_score(country, pos_score)\n",
    "    \n",
    "    # don't draw graph if there is no data to draw\n",
    "    if data == [] or len(data[0]) == 0:\n",
    "        return\n",
    "    else:\n",
    "        model_data = data[0]\n",
    "        d = np.hsplit(model_data,2)\n",
    "        plt.scatter(d[0],d[1])\n",
    "        plt.xlabel('time')\n",
    "        plt.ylabel(pos_score)\n",
    "        plt.title(\"{} {}\".format(country,pos_score))\n",
    "        plt.show()\n",
    "\n",
    "#show_model_data('Congo','mid_score')\n",
    "#show_model_data('Azerbaijan', 'def_score')"
   ]
  },
  {
   "cell_type": "code",
   "execution_count": 125,
   "metadata": {},
   "outputs": [],
   "source": [
    "# displays the variables that needs to be investigated to generate missing values\n",
    "# so for Albania case, gk and def scores contain missing values => target for prediction\n",
    "def show_model_data(country):\n",
    "    print(\"-------------------------------\")\n",
    "    print(country, \"Position Scores\")\n",
    "    print(\"-------------------------------\")\n",
    "\n",
    "    count = 0\n",
    "    data = fetch_country_score(country)\n",
    "    \n",
    "    for elem in data:\n",
    "        count += 1\n",
    "        # again, don't display graph if there is no data\n",
    "        if elem == [] or len(elem[0]) == 0:\n",
    "            pass\n",
    "        else:\n",
    "            model_data = elem[0]\n",
    "            d = np.hsplit(model_data,2)\n",
    "            plt.scatter(d[0],d[1])\n",
    "            plt.xlabel('time')\n",
    "            if count == 1:\n",
    "                plt.title(\"{} {}\".format(country,'gk_score'))\n",
    "                plt.ylabel('gk_score')\n",
    "            elif count == 2:\n",
    "                plt.title(\"{} {}\".format(country,'def_score'))\n",
    "                plt.ylabel('def_score')\n",
    "            elif count == 3:\n",
    "                plt.title(\"{} {}\".format(country,'mid_score'))\n",
    "                plt.ylabel('mid_score')\n",
    "            else:\n",
    "                plt.title(\"{} {}\".format(country,'atk_score'))\n",
    "                plt.ylabel('atk_score')\n",
    "            plt.show()\n",
    "\n",
    "#show_model_data('Albania')\n",
    "#show_model_data('Congo')\n",
    "#show_model_data('Azerbaijan')"
   ]
  },
  {
   "cell_type": "code",
   "execution_count": 126,
   "metadata": {},
   "outputs": [
    {
     "data": {
      "text/plain": [
       "'\\nfor country in country_list:\\n    show_model_data(country)\\n    print(\"\\n\")\\n'"
      ]
     },
     "execution_count": 126,
     "metadata": {},
     "output_type": "execute_result"
    }
   ],
   "source": [
    "# display all prediction targets\n",
    "'''\n",
    "for country in country_list:\n",
    "    show_model_data(country)\n",
    "    print(\"\\n\")\n",
    "'''"
   ]
  },
  {
   "attachments": {},
   "cell_type": "markdown",
   "metadata": {},
   "source": [
    "### Gaussian Method"
   ]
  },
  {
   "attachments": {},
   "cell_type": "markdown",
   "metadata": {},
   "source": [
    "#### Calculation"
   ]
  },
  {
   "cell_type": "code",
   "execution_count": 127,
   "metadata": {},
   "outputs": [],
   "source": [
    "import scipy.stats as stats\n",
    "from statistics import mean\n",
    "from scipy.stats import truncnorm\n",
    "\n",
    "#translates from sample to sd space given a distribution's mean and sd\n",
    "def sample_to_sd(sample, mean, sd):\n",
    "    return (sample - mean) / sd\n",
    "\n",
    "# use truncated gaussian bounded at lower and upper limits\n",
    "def generate_truncated_gaussian(params):\n",
    "    mean = params[0]\n",
    "    sd = params[1]\n",
    "    lower = params[2]\n",
    "    upper = params[3]\n",
    "\n",
    "    return truncnorm(sample_to_sd(lower, mean, sd), sample_to_sd(upper, mean, sd), loc= mean, scale = sd)"
   ]
  },
  {
   "cell_type": "code",
   "execution_count": 128,
   "metadata": {},
   "outputs": [],
   "source": [
    "#calculates necessary parameters on given data\n",
    "def get_gaussian_parameters(data):\n",
    "    # average data for each score\n",
    "    avg = np.mean(data[0], axis=0)[1]\n",
    "    #avdef = np.mean(fetch_country_pos_score('Albania','def_score')[0], axis=0)[1]\n",
    "\n",
    "    # variance data for each scores for Albania\n",
    "    var= np.var(data[0], axis=0)[1]\n",
    "    sd = np.sqrt(var)\n",
    "    #vardef= np.var(fetch_country_pos_score('Albania','def_score')[0], axis=0)[1]\n",
    "\n",
    "    #min and max to truncate gaussian\n",
    "    min = np.amin(data[0], axis=0)[1]\n",
    "    max = np.amax(data[0], axis=0)[1]\n",
    "\n",
    "    return [avg, sd, min, max]"
   ]
  },
  {
   "attachments": {},
   "cell_type": "markdown",
   "metadata": {},
   "source": [
    "#### Sampling"
   ]
  },
  {
   "cell_type": "code",
   "execution_count": 129,
   "metadata": {},
   "outputs": [],
   "source": [
    "#samples from a generated gaussian distribution\n",
    "def sample_truncated_gaussian(data):\n",
    "    params = get_gaussian_parameters(data)\n",
    "    dist = generate_truncated_gaussian(params)\n",
    "\n",
    "    if isinstance(dist, int):\n",
    "        return dist\n",
    "\n",
    "    return dist.rvs(1)[0]"
   ]
  },
  {
   "cell_type": "code",
   "execution_count": 130,
   "metadata": {},
   "outputs": [
    {
     "data": {
      "text/plain": [
       "61.0"
      ]
     },
     "execution_count": 130,
     "metadata": {},
     "output_type": "execute_result"
    }
   ],
   "source": [
    "#gathers position score data and samples gaussian distribution to simulate it\n",
    "def fetch_gaussian_pos_score(country, pos_score):\n",
    "    data = fetch_country_pos_score(country, pos_score)\n",
    "    #in this case there is no data at all for the position score; use the median score 75\n",
    "    if len(data[0]) == 0:\n",
    "        return 75.0\n",
    "\n",
    "    #subroutine to check if all data values are the same (invalid variance)\n",
    "    sum = 0\n",
    "    ln = len(data[0])\n",
    "    for i in range(ln):\n",
    "        sum += data[0][i][1]\n",
    "    if sum/ln == data[0][0][1]:\n",
    "        return data[0][0][1]\n",
    "\n",
    "    return sample_truncated_gaussian(data)\n",
    "\n",
    "fetch_gaussian_pos_score('Honduras', 'gk_score')"
   ]
  },
  {
   "attachments": {},
   "cell_type": "markdown",
   "metadata": {},
   "source": [
    "#### Visualisation"
   ]
  },
  {
   "cell_type": "code",
   "execution_count": 131,
   "metadata": {},
   "outputs": [
    {
     "name": "stdout",
     "output_type": "stream",
     "text": [
      "-------------------------------\n",
      "Albania Position Scores\n",
      "-------------------------------\n"
     ]
    },
    {
     "data": {
      "image/png": "[encoded data removed]",
      "text/plain": [
       "<Figure size 432x288 with 1 Axes>"
      ]
     },
     "metadata": {
      "needs_background": "light"
     },
     "output_type": "display_data"
    },
    {
     "data": {
      "image/png": "[encoded data removed]",
      "text/plain": [
       "<Figure size 432x288 with 1 Axes>"
      ]
     },
     "metadata": {
      "needs_background": "light"
     },
     "output_type": "display_data"
    },
    {
     "data": {
      "image/png": "[encoded data removed]",
      "text/plain": [
       "<Figure size 432x288 with 1 Axes>"
      ]
     },
     "metadata": {
      "needs_background": "light"
     },
     "output_type": "display_data"
    },
    {
     "name": "stdout",
     "output_type": "stream",
     "text": [
      "true mean =  71.85858585858585\n",
      "standard deviation =  8.87171205393191\n",
      "min =  51.0\n",
      "max =  83.0\n"
     ]
    },
    {
     "data": {
      "image/png": "[encoded data removed]",
      "text/plain": [
       "<Figure size 432x288 with 1 Axes>"
      ]
     },
     "metadata": {
      "needs_background": "light"
     },
     "output_type": "display_data"
    }
   ],
   "source": [
    "#show_model_data('Congo')\n",
    "show_model_data('Albania')\n",
    "\n",
    "# gaussian distribution for country, pos_score\n",
    "def show_gaussian_pos_score(country, pos_score):\n",
    "    data = fetch_country_pos_score(country, pos_score)\n",
    "    params = get_gaussian_parameters(data)\n",
    "\n",
    "    X = generate_truncated_gaussian(params)\n",
    "    plt.hist(X.rvs(1000), bins= 50, alpha=0.3)\n",
    "    plt.title(\"{} {} Gaussian distribution\".format(country, pos_score))\n",
    "    #plt.title(\"Albania Goalkeeper Score Gaussian Distribution\")\n",
    "    plt.xlabel(\"Score\")\n",
    "    plt.ylabel(\"Frequency\")\n",
    "    plt.show()\n",
    "\n",
    "    print(\"true mean = \", params[0])\n",
    "    print(\"standard deviation = \", params[1])\n",
    "    print(\"min = \", params[2])\n",
    "    print(\"max = \", params[3])\n",
    "\n",
    "#show_gaussian_pos_score('Congo', 'gk_score')\n",
    "show_gaussian_pos_score('Albania', 'gk_score')\n",
    "\n",
    "#now creating a box plot for direct comparison with the distribution\n",
    "data = fetch_country_pos_score('Albania', 'gk_score')\n",
    "data_scores = np.split(data[0], 2, axis=1)\n",
    "box_scores = []\n",
    "for item in data_scores[1]:\n",
    "    box_scores.append(item[0])\n",
    "#print(box_scores)\n",
    "\n",
    "\n",
    "plt.hist(box_scores, bins= 50, alpha=0.3)\n",
    "plt.title(\"Albania Goalkeeper Scores\")\n",
    "plt.xlabel(\"Score\")\n",
    "plt.ylabel(\"Frequency\")\n",
    "plt.show()"
   ]
  },
  {
   "attachments": {},
   "cell_type": "markdown",
   "metadata": {},
   "source": [
    "#### Reconstruction"
   ]
  },
  {
   "cell_type": "code",
   "execution_count": 132,
   "metadata": {},
   "outputs": [],
   "source": [
    "#fills in missing position scores for a single record\n",
    "def fill_record_pos_scores(record):\n",
    "    #countries in this record\n",
    "    home = record['home_team']\n",
    "    away = record['away_team']\n",
    "\n",
    "    features = [\n",
    "    'home_team_goalkeeper_score',\n",
    "    'away_team_goalkeeper_score',\n",
    "    'home_team_mean_defense_score',\n",
    "    'away_team_mean_defense_score',\n",
    "    'home_team_mean_offense_score',\n",
    "    'away_team_mean_offense_score',\n",
    "    'home_team_mean_midfield_score',\n",
    "    'away_team_mean_midfield_score',\n",
    "    ]\n",
    "\n",
    "    #dictionary to check if a value corresponds to home or away team, and give the position\n",
    "    check = {\n",
    "    'home_team_goalkeeper_score':[1, 'gk_score'],\n",
    "    'away_team_goalkeeper_score':[0, 'gk_score'],\n",
    "    'home_team_mean_defense_score':[1, 'def_score'],\n",
    "    'away_team_mean_defense_score':[0, 'def_score'],\n",
    "    'home_team_mean_offense_score':[1, 'atk_score'],\n",
    "    'away_team_mean_offense_score':[0, 'atk_score'],\n",
    "    'home_team_mean_midfield_score':[1, 'mid_score'],\n",
    "    'away_team_mean_midfield_score':[0, 'mid_score']\n",
    "    }\n",
    "\n",
    "    for feature in features:\n",
    "        if record[feature] == 0:\n",
    "            country = home\n",
    "            if check[feature][0] == 0: \n",
    "                country = away\n",
    "            position = check[feature][1]\n",
    "\n",
    "            val = fetch_gaussian_pos_score(country, position)\n",
    "            record[feature] = val\n",
    "            #print(country, position, \":\", val)"
   ]
  },
  {
   "cell_type": "code",
   "execution_count": 133,
   "metadata": {},
   "outputs": [],
   "source": [
    "#fill all records\n",
    "def fill_df_pos_scores(df):\n",
    "    for index, record in df.iterrows():\n",
    "        fill_record_pos_scores(record)\n",
    "\n",
    "fill_df_pos_scores(g_df)"
   ]
  },
  {
   "attachments": {},
   "cell_type": "markdown",
   "metadata": {},
   "source": [
    "## Box Plot Visualisation"
   ]
  },
  {
   "cell_type": "code",
   "execution_count": 134,
   "metadata": {},
   "outputs": [],
   "source": [
    "def gather_position_scores(df):\n",
    "    #array of scores for each position:\n",
    "    #goalkeeper, defense, attack, midfield\n",
    "\n",
    "    pos_scores = [[], [], [], []]\n",
    "\n",
    "    features = [\n",
    "    'home_team_goalkeeper_score',\n",
    "    'away_team_goalkeeper_score',\n",
    "    'home_team_mean_defense_score',\n",
    "    'away_team_mean_defense_score',\n",
    "    'home_team_mean_offense_score',\n",
    "    'away_team_mean_offense_score',\n",
    "    'home_team_mean_midfield_score',\n",
    "    'away_team_mean_midfield_score',\n",
    "    ]\n",
    "\n",
    "    #dictionary to check what index feature corresponds to in pos_scores array\n",
    "    check = {\n",
    "    'home_team_goalkeeper_score':0,\n",
    "    'away_team_goalkeeper_score':0,\n",
    "    'home_team_mean_defense_score':1,\n",
    "    'away_team_mean_defense_score':1,\n",
    "    'home_team_mean_offense_score':2,\n",
    "    'away_team_mean_offense_score':2,\n",
    "    'home_team_mean_midfield_score':3,\n",
    "    'away_team_mean_midfield_score':3\n",
    "    }\n",
    "\n",
    "    for index, record in df.iterrows():\n",
    "        for feature in features:\n",
    "            if record[feature]:\n",
    "                pos_scores[check[feature]].append(record[feature])\n",
    "\n",
    "    return pos_scores\n",
    "\n",
    "#print(gather_position_scores(g_df))"
   ]
  },
  {
   "cell_type": "code",
   "execution_count": 135,
   "metadata": {},
   "outputs": [],
   "source": [
    "def draw_box_plot(data, title):\n",
    "    plt.boxplot(data)\n",
    "    plt.title(title)\n",
    "    plt.show()\n",
    "\n",
    "#draw_box_plot([1, 2, 2, 3, 4, 3, 5, 9, 1, 2, 2, 2, 2], \"Example Plot\")"
   ]
  },
  {
   "cell_type": "code",
   "execution_count": 136,
   "metadata": {},
   "outputs": [
    {
     "data": {
      "image/png": "[encoded data removed]",
      "text/plain": [
       "<Figure size 432x288 with 1 Axes>"
      ]
     },
     "metadata": {
      "needs_background": "light"
     },
     "output_type": "display_data"
    },
    {
     "data": {
      "image/png": "[encoded data removed]",
      "text/plain": [
       "<Figure size 432x288 with 1 Axes>"
      ]
     },
     "metadata": {
      "needs_background": "light"
     },
     "output_type": "display_data"
    },
    {
     "data": {
      "image/png": "[encoded data removed]",
      "text/plain": [
       "<Figure size 432x288 with 1 Axes>"
      ]
     },
     "metadata": {
      "needs_background": "light"
     },
     "output_type": "display_data"
    },
    {
     "data": {
      "image/png": "[encoded data removed]",
      "text/plain": [
       "<Figure size 432x288 with 1 Axes>"
      ]
     },
     "metadata": {
      "needs_background": "light"
     },
     "output_type": "display_data"
    },
    {
     "name": "stdout",
     "output_type": "stream",
     "text": [
      "10555\n",
      "10581\n",
      "10949\n",
      "10800\n"
     ]
    },
    {
     "data": {
      "image/png": "[encoded data removed]",
      "text/plain": [
       "<Figure size 432x288 with 1 Axes>"
      ]
     },
     "metadata": {
      "needs_background": "light"
     },
     "output_type": "display_data"
    }
   ],
   "source": [
    "def draw_position_box_plots(df):\n",
    "    position_scores = gather_position_scores(df)\n",
    "    pos_names = [\n",
    "    'gk_score',\n",
    "    'def_score',\n",
    "    'atk_score',\n",
    "    'mid_score'\n",
    "    ]\n",
    "\n",
    "    pos_names = [\n",
    "        'Goalkeeper Score',\n",
    "        'Defense Score',\n",
    "        'Offense Score',\n",
    "        'Midfield Score'\n",
    "    ]\n",
    "\n",
    "    #drawing one by one\n",
    "    for i in range(len(pos_names)):\n",
    "        draw_box_plot(position_scores[i], pos_names[i])\n",
    "\n",
    "    for i in position_scores:\n",
    "        print(len(i))\n",
    "\n",
    "    \n",
    "    #drawing all in same graph\n",
    "    plot_data = pd.DataFrame({\n",
    "        'Goalkeeper Score' : position_scores[0][:10554],\n",
    "        'Defense Score' : position_scores[1][:10554],\n",
    "        'Offense Score' : position_scores[2][:10554],\n",
    "        'Midfield Score' : position_scores[3][:10554]\n",
    "    })\n",
    "\n",
    "    my_dict = {\n",
    "        'Goalkeeper Score' : position_scores[0][:10554],\n",
    "        'Defense Score' : position_scores[1][:10554],\n",
    "        'Offense Score' : position_scores[2][:10554],\n",
    "        'Midfield Score' : position_scores[3][:10554]\n",
    "    }\n",
    "    fig, ax = plt.subplots()\n",
    "    ax.boxplot(my_dict.values())\n",
    "    ax.set_xticklabels(my_dict.keys())\n",
    "    ax.set_title('Position Score Box Plots')\n",
    "\n",
    "    #draw_box_plot(plot_data, 'Position Score Box Plots')\n",
    "\n",
    "draw_position_box_plots(g_df)"
   ]
  },
  {
   "attachments": {},
   "cell_type": "markdown",
   "metadata": {},
   "source": [
    "## Feature Engineering"
   ]
  },
  {
   "attachments": {},
   "cell_type": "markdown",
   "metadata": {},
   "source": [
    "### Position Score Averages"
   ]
  },
  {
   "cell_type": "code",
   "execution_count": 137,
   "metadata": {},
   "outputs": [],
   "source": [
    "def fill_score_average_record(record, df, index):\n",
    "    #countries in this record\n",
    "\n",
    "    home_score = [\n",
    "    'home_team_goalkeeper_score', \n",
    "    'home_team_mean_defense_score', \n",
    "    'home_team_mean_offense_score',\n",
    "    'home_team_mean_midfield_score',\n",
    "    ]\n",
    "\n",
    "    away_score = [\n",
    "    'away_team_goalkeeper_score',\n",
    "    'away_team_mean_defense_score',\n",
    "    'away_team_mean_offense_score', \n",
    "    'away_team_mean_midfield_score',\n",
    "    ]\n",
    "\n",
    "    home_total = 0\n",
    "    away_total = 0\n",
    "\n",
    "    for feature in home_score:\n",
    "        home_total += record[feature]\n",
    "    for feature in away_score:\n",
    "        away_total += record[feature]\n",
    "    \n",
    "    home_total /= len(home_score)\n",
    "    away_total /= len(away_score)\n",
    "\n",
    "    #print(home_total, away_total)\n",
    "\n",
    "    df.at[index, 'home_team_total_average'] = home_total\n",
    "    df.at[index, 'away_team_total_average'] = away_total"
   ]
  },
  {
   "cell_type": "code",
   "execution_count": 138,
   "metadata": {},
   "outputs": [],
   "source": [
    "def create_score_averages(df):\n",
    "    #first, create the new column for home advantage feature\n",
    "    df['home_team_total_average'] = ''\n",
    "    df['away_team_total_average'] = ''\n",
    "    for index, record in df.iterrows():\n",
    "        fill_score_average_record(record, df, index)\n",
    "\n",
    "create_score_averages(df)"
   ]
  },
  {
   "attachments": {},
   "cell_type": "markdown",
   "metadata": {},
   "source": [
    "### Goal Difference"
   ]
  },
  {
   "cell_type": "code",
   "execution_count": 139,
   "metadata": {},
   "outputs": [],
   "source": [
    "def fill_goal_difference_record(record, df, index):\n",
    "    #countries in this record\n",
    "\n",
    "    home_goals = record['home_team_score']\n",
    "    away_goals = record['away_team_score']\n",
    "    goal_diff = abs(home_goals - away_goals)\n",
    "\n",
    "    #print(goal_diff)\n",
    "\n",
    "    df.at[index, 'goal_difference'] = goal_diff"
   ]
  },
  {
   "cell_type": "code",
   "execution_count": 140,
   "metadata": {},
   "outputs": [],
   "source": [
    "def create_goal_differences(df):\n",
    "    #first, create the new column for home score difference feature\n",
    "    df['goal_difference'] = ''\n",
    "    for index, record in df.iterrows():\n",
    "        fill_goal_difference_record(record, df, index)\n",
    "    del df['home_team_score']\n",
    "    del df['away_team_score']\n",
    "\n",
    "create_goal_differences(df)"
   ]
  },
  {
   "attachments": {},
   "cell_type": "markdown",
   "metadata": {},
   "source": [
    "### Rank Difference"
   ]
  },
  {
   "cell_type": "code",
   "execution_count": 141,
   "metadata": {},
   "outputs": [],
   "source": [
    "def fill_rank_difference_record(record, df, index):\n",
    "    #countries in this record\n",
    "\n",
    "    home_rank = record['home_team_fifa_rank']\n",
    "    away_rank = record['away_team_fifa_rank']\n",
    "    rank_diff = home_rank - away_rank\n",
    "\n",
    "    #print(rank_diff)\n",
    "\n",
    "    df.at[index, 'home_team_rank_difference'] = rank_diff"
   ]
  },
  {
   "cell_type": "code",
   "execution_count": 142,
   "metadata": {},
   "outputs": [],
   "source": [
    "def create_rank_differences(df):\n",
    "    #first, create the new column for home rank difference feature\n",
    "    df['home_team_rank_difference'] = ''\n",
    "    for index, record in df.iterrows():\n",
    "        fill_rank_difference_record(record, df, index)\n",
    "\n",
    "create_rank_differences(df)"
   ]
  },
  {
   "attachments": {},
   "cell_type": "markdown",
   "metadata": {},
   "source": [
    "## Export DataFrame to CSV"
   ]
  },
  {
   "cell_type": "code",
   "execution_count": null,
   "metadata": {},
   "outputs": [],
   "source": [
    "def export_csv(df, name):\n",
    "    filename = name + \".csv\"\n",
    "    df.to_csv(filename)\n",
    "\n",
    "#export_csv(df, \"feature_match_history\")"
   ]
  },
  {
   "cell_type": "markdown",
   "metadata": {},
   "source": [
    "## **4. Methodology Overview**"
   ]
  },
  {
   "cell_type": "markdown",
   "metadata": {},
   "source": [
    "\"Start by describing in broad terms your methodology. Include any background reading you may have done and a step by step description of how you have trained and evaluated your model. Describe any feature engineering that you have applied. If you had attempted different approaches prior to landing on your final methodology, then describe those approaches here.\""
   ]
  },
  {
   "cell_type": "markdown",
   "metadata": {},
   "source": [
    "*Code for the equivalent section in your report, together with in-line documentation of that code.*"
   ]
  },
  {
   "cell_type": "code",
   "execution_count": null,
   "metadata": {},
   "outputs": [],
   "source": [
    "#Code blocks testing each method?\n",
    "#More code blocks displaying results of experiments?"
   ]
  },
  {
   "cell_type": "markdown",
   "metadata": {},
   "source": [
    "## **5. Model Training & Validation**"
   ]
  },
  {
   "cell_type": "markdown",
   "metadata": {},
   "source": [
    "\"This contains a breakdown of how your model was trained and evaluated.\""
   ]
  },
  {
   "cell_type": "markdown",
   "metadata": {},
   "source": [
    "*Code for the equivalent section in your report, together with in-line documentation of that code.*"
   ]
  },
  {
   "cell_type": "code",
   "execution_count": null,
   "metadata": {},
   "outputs": [],
   "source": [
    "#Code for our chosen model\n",
    "#More code for testing our model"
   ]
  },
  {
   "cell_type": "markdown",
   "metadata": {},
   "source": [
    "## **6. Results**"
   ]
  },
  {
   "cell_type": "markdown",
   "metadata": {},
   "source": [
    "\"Here you show the results that you obtain using your model on the training data. If you have multiple variations or approaches, this is where you compare them.\""
   ]
  },
  {
   "cell_type": "markdown",
   "metadata": {},
   "source": [
    "*Code for the equivalent section in your report, together with in-line documentation of that code.*"
   ]
  },
  {
   "cell_type": "code",
   "execution_count": null,
   "metadata": {},
   "outputs": [],
   "source": [
    "#Code for data visualisations of results"
   ]
  },
  {
   "cell_type": "markdown",
   "metadata": {},
   "source": [
    "## **7. Final Predictions on Test Set**"
   ]
  },
  {
   "cell_type": "markdown",
   "metadata": {},
   "source": [
    "\"This is the section where you perform your final predictions on the test set using the model that you have trained in the previous section.\""
   ]
  },
  {
   "cell_type": "markdown",
   "metadata": {},
   "source": [
    "*Code for the equivalent section in your report, together with in-line documentation of that code.*"
   ]
  },
  {
   "cell_type": "code",
   "execution_count": null,
   "metadata": {},
   "outputs": [],
   "source": [
    "#Code for performing the final prediction"
   ]
  },
  {
   "cell_type": "markdown",
   "metadata": {},
   "source": [
    "## Credits"
   ]
  },
  {
   "cell_type": "markdown",
   "metadata": {},
   "source": [
    "(Alphabetical ordering is my weakness...)"
   ]
  },
  {
   "cell_type": "markdown",
   "metadata": {},
   "source": [
    "Minyong Cheong\n",
    "<br>\n",
    "Justin Koo\n",
    "<br>\n",
    "Adel Mouffok\n",
    "<br>\n",
    "James Parkington\n",
    "<br>\n",
    "Chris Sim\n",
    "<br>\n",
    "Angellika Vojevodina"
   ]
  }
 ],
 "metadata": {
  "kernelspec": {
   "display_name": "base",
   "language": "python",
   "name": "python3"
  },
  "language_info": {
   "codemirror_mode": {
    "name": "ipython",
    "version": 3
   },
   "file_extension": ".py",
   "mimetype": "text/x-python",
   "name": "python",
   "nbconvert_exporter": "python",
   "pygments_lexer": "ipython3",
   "version": "3.9.12"
  },
  "vscode": {
   "interpreter": {
    "hash": "9e8026256748c756b09305b4cdcf9dfafc125988c628529d61c985f1980b6b57"
   }
  }
 },
 "nbformat": 4,
 "nbformat_minor": 2
}
