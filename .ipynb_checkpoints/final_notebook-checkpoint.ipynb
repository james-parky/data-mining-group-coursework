{
 "cells": [
  {
   "cell_type": "markdown",
   "metadata": {},
   "source": [
    "# **Data Mining Notebook**"
   ]
  },
  {
   "cell_type": "markdown",
   "metadata": {},
   "source": [
    "## **1. Introduction**"
   ]
  },
  {
   "cell_type": "markdown",
   "metadata": {},
   "source": [
    "\"A brief description of your approach to the problem and the results that you have obtained on the training data.\""
   ]
  },
  {
   "cell_type": "markdown",
   "metadata": {},
   "source": [
    "*A brief precis of the equivalent section in your report.*"
   ]
  },
  {
   "cell_type": "code",
   "execution_count": 5,
   "metadata": {},
   "outputs": [],
   "source": [
    "import csv\n",
    "import matplotlib.pyplot as plt\n",
    "import numpy as np\n",
    "import pandas as pd"
   ]
  },
  {
   "cell_type": "markdown",
   "metadata": {},
   "source": [
    "## **2. Data Import**"
   ]
  },
  {
   "cell_type": "markdown",
   "metadata": {},
   "source": [
    "*This section is how you import the data into the notebook. It should be written in such a way that I can modify it to run on my own machine by simply changing the location of the training data and any additional data sources that you have used.*"
   ]
  },
  {
   "cell_type": "code",
   "execution_count": 6,
   "metadata": {},
   "outputs": [],
   "source": [
    "ORIGINAL_MATCH_HISTORY = 'dataset/match_history.csv'\n",
    "\n",
    "INTERPOLATED_MATCH_HISTORY = 'dataset/reconstructed/interpolated_match_history.csv'\n",
    "LINEAR_REGRESSION_MATCH_HISTORY = 'dataset/reconstructed/linear_regression_match_history.csv'\n",
    "GAUSSIAN_MATCH_HISTORY = 'dataset/reconstructed/gaussian_match_history.csv'\n",
    "\n",
    "NEW_FEATURE_INTERPOLATED_MATCH_HISTORY = 'dataset/new_features_interpolated_match_history.csv'\n",
    "NEW_FEATURE_LINEAR_REGRESSION_MATCH_HISTORY = 'dataset/new_features_linear_regression_match_history.csv'\n",
    "NEW_FEATURE_GAUSSIAN_MATCH_HISTORY = 'dataset/new_features_gaussian_match_history.csv'"
   ]
  },
  {
   "cell_type": "markdown",
   "metadata": {},
   "source": [
    "## **3. Data Transformation & Exploration**"
   ]
  },
  {
   "cell_type": "markdown",
   "metadata": {},
   "source": [
    "\"Any transformations that you apply to the data prior to training. Also, any exploration of the data that you performed such as visualization, feature selection, etc.\""
   ]
  },
  {
   "cell_type": "markdown",
   "metadata": {},
   "source": [
    "The following code produces four different graphs to visualise the key features in the dataset. It plots each of these features against FIFA rank, illustrating the general upward trend of teams performing better in all aspects the better their FIFA rank is."
   ]
  },
  {
   "cell_type": "code",
   "execution_count": 7,
   "metadata": {},
   "outputs": [
    {
     "data": {
      "image/png": "[encoded data removed]",
      "text/plain": [
       "<Figure size 432x288 with 4 Axes>"
      ]
     },
     "metadata": {
      "needs_background": "light"
     },
     "output_type": "display_data"
    }
   ],
   "source": [
    "HOME_FEATURE_INDEXES = [17, 19, 20, 21]\n",
    "AWAY_FEATURE_INDEXES = [18, 22, 23, 24]\n",
    "HOME_TEAM_FIFA_RANK = 5\n",
    "AWAY_TEAM_FIFA_RANK = 6\n",
    "PLOT_TITLES = ['Goalkeeper', 'Defense', 'Offense', 'Midfield']\n",
    "PLOT_COLOURS = 'rbgm'\n",
    "\n",
    "\n",
    "def plot_fifa_score(original_data: str) -> None:\n",
    "    '''\n",
    "    Pull data from the given csv and plot 4 graphs, different features from the dataset against FIFA rank.\n",
    "    '''\n",
    "    with open(original_data) as csv_in_file:\n",
    "        csv_reader = csv.reader(csv_in_file)\n",
    "        next(csv_reader)\n",
    "\n",
    "        ranks = []\n",
    "        features = {'Goalkeeper': [], 'Defense': [], 'Offense': [], 'Midfield': []}\n",
    "\n",
    "        for row in csv_reader:\n",
    "            # Get the correct features from the dataset for both\n",
    "            # the home and away team.\n",
    "            home_features = [row[i] for i in HOME_FEATURE_INDEXES]\n",
    "            away_features = [row[i] for i in AWAY_FEATURE_INDEXES]\n",
    "\n",
    "            # Only append the data and rank of the corresponding team if the data points\n",
    "            # are fully intact and have no missing features.\n",
    "            if '' not in home_features and '' not in away_features:\n",
    "                ranks.append(int(row[HOME_TEAM_FIFA_RANK]))\n",
    "                ranks.append(int(row[AWAY_TEAM_FIFA_RANK]))\n",
    "                for i, score in enumerate(PLOT_TITLES):\n",
    "                    new_points = [float(home_features[i]), float(away_features[i])]\n",
    "                    features[score].extend(new_points)\n",
    "\n",
    "        # Plot all four graphs on the same figure, with seperate colours and titles.\n",
    "        fig, axs = plt.subplots(4, 1, constrained_layout=True)\n",
    "        fig.suptitle('A plot of different score metrics by FIFA ranking')\n",
    "\n",
    "        plot_data = zip(PLOT_COLOURS, features.items())\n",
    "        for i, (colour, (title, data)) in enumerate(plot_data):\n",
    "            axs[i].scatter(ranks, data, s=10, c=colour, marker='.')\n",
    "            axs[i].set_title(f'{title} by FIFA rank')\n",
    "            axs[i].set_xlabel('FIFA rank')\n",
    "            axs[i].set_ylabel('Score')\n",
    "\n",
    "        plt.show()\n",
    "\n",
    "plot_fifa_score(ORIGINAL_MATCH_HISTORY)"
   ]
  },
  {
   "cell_type": "markdown",
   "metadata": {},
   "source": [
    "## Linear Interpolation Reconstruction"
   ]
  },
  {
   "cell_type": "markdown",
   "metadata": {},
   "source": [
    "The following code using Pandas' Series.interpolate() function to replace NaN values in the original dataset with linearly interpolated values, for each of the four features that have missing data."
   ]
  },
  {
   "cell_type": "code",
   "execution_count": 8,
   "metadata": {},
   "outputs": [],
   "source": [
    "def interpolote_missing_data(original_data: str) -> dict:\n",
    "    '''Interpolate completely missing features using Pandas .interpolate()'''\n",
    "\n",
    "    with open(original_data) as csv_in_file:\n",
    "        csv_reader = csv.reader(csv_in_file)\n",
    "        next(csv_reader)\n",
    "\n",
    "        features = {'Goalkeeper': [], 'Defense': [], 'Offense': [], 'Midfield': []}\n",
    "        interpolated_features = {'Goalkeeper': [], 'Defense': [], 'Offense': [], 'Midfield': []}\n",
    "\n",
    "        for row in csv_reader:\n",
    "            # Get the correct features from the dataset for both\n",
    "            # the home and away team\n",
    "            home_features = [row[i] for i in HOME_FEATURE_INDEXES]\n",
    "            away_features = [row[i] for i in AWAY_FEATURE_INDEXES]\n",
    "            \n",
    "            # Append a tuple of (FIFA rank, value) to the feature dictionary for each type of score,\n",
    "            # where the value is replace with a NumPy NaN value if it is missing\n",
    "            for i, score in enumerate(PLOT_TITLES):\n",
    "                home_val = np.nan if home_features[i] == '' else home_features[i]\n",
    "                away_val = np.nan if away_features[i] == '' else away_features[i]\n",
    "                features[score].append((int(row[HOME_TEAM_FIFA_RANK]), (home_val)))\n",
    "                features[score].append((int(row[AWAY_TEAM_FIFA_RANK]), (away_val)))\n",
    "\n",
    "        # For each different score type, order the list in the dictionary by FIFA rank, create a\n",
    "        # pandas Series using the values, and replace the NaN values through linear interpolation.\n",
    "        # Insert these new values into a new dictionary and return \n",
    "        for i, score in enumerate(PLOT_TITLES):\n",
    "            sorted_score = [float(s) for (_, s) in sorted(features[score], key=lambda x: x[0])]\n",
    "            interpolated_features[score] = list(pd.Series(sorted_score).interpolate())\n",
    "    return interpolated_features"
   ]
  },
  {
   "cell_type": "code",
   "execution_count": 9,
   "metadata": {},
   "outputs": [],
   "source": [
    "def get_averages(original_data: str) -> dict:\n",
    "    '''\n",
    "    Find average values for each 4 features for each country.\n",
    "    '''\n",
    "\n",
    "    countries = {}\n",
    "\n",
    "    with open(original_data) as csv_file:\n",
    "        csv_reader = csv.reader(csv_file)\n",
    "        next(csv_reader)\n",
    "        count = 0\n",
    "        \n",
    "        # For each row in the original match_history.csv file, loop over all of the rows\n",
    "        # and keep a running total of each of the 4 scores in PLOT_TITLES, for each country, along\n",
    "        # with the number of times that that feature was seen for said country (since sometimes\n",
    "        # they are missing) and insert the values into a dictionary.\n",
    "        for row in csv_reader:\n",
    "            if '' in row:\n",
    "                count += 1\n",
    "            home_country, away_country = row[1], row[2]\n",
    "            home_features = [row[i] for i in HOME_FEATURE_INDEXES]\n",
    "            away_features = [row[i] for i in AWAY_FEATURE_INDEXES]\n",
    "\n",
    "            if home_country not in countries.keys():\n",
    "                countries[home_country] = [[0, 0], [0, 0], [0, 0], [0, 0]]\n",
    "            if away_country not in countries.keys():\n",
    "                countries[away_country] = [[0, 0], [0, 0], [0, 0], [0, 0]]\n",
    "\n",
    "            for i, val in enumerate(home_features):\n",
    "                if val != '':\n",
    "                    countries[home_country][i][0] += float(val)\n",
    "                    countries[home_country][i][1] += 1\n",
    "\n",
    "            for i, val in enumerate(away_features):\n",
    "                if val != '':\n",
    "                    countries[away_country][i][0] += float(val)\n",
    "                    countries[away_country][i][1] += 1\n",
    "        \n",
    "        # For each country in the dictionary, replace the list of score totals and counts with\n",
    "        # their corresponding calculated averages and return.\n",
    "        for country, vals in countries.items():\n",
    "            averages = [round(val / max(1, count), 1) for [val, count] in vals]\n",
    "            countries[country] = averages\n",
    "        # Show which countries have at least one feature completely missing in the dataset\n",
    "        for country, vals in countries.items():\n",
    "            if 0.0 in vals:\n",
    "                print(f'{country} has a completely missing value.')\n",
    "    return countries"
   ]
  },
  {
   "cell_type": "code",
   "execution_count": 12,
   "metadata": {},
   "outputs": [],
   "source": [
    "def write_interpolated_data(original_data: str, new_data: str, countries: dict) -> None:\n",
    "    '''\n",
    "    For each row in the input csv, write to the output csv filling in missisng\n",
    "    values, with that countries average for that feature.\n",
    "    '''\n",
    "\n",
    "    with open(original_data) as csv_in, open(new_data, 'w+') as csv_out:\n",
    "        csv_reader = csv.reader(csv_in)\n",
    "        csv_writer = csv.writer(csv_out)\n",
    "        csv_writer.writerow(next(csv_reader))\n",
    "        \n",
    "        # Gather interpolated data \n",
    "        interpolated_features = interpolote_missing_data(original_data)\n",
    "        \n",
    "        # For each row in the original match_history.csv file, loop over all of the records.\n",
    "        # If any record has a value missing value, check whether the corresponding country has an average\n",
    "        # for the missing feature. If so, replace the missing data with that average, if not, replace it\n",
    "        # with the interpolated value. Finally, write the updated data into a new .csv file.\n",
    "        for row in csv_reader:\n",
    "            for i, val in enumerate(row):\n",
    "                if val == '':\n",
    "                    if i in HOME_FEATURE_INDEXES:\n",
    "                        replace_index = HOME_FEATURE_INDEXES.index(i)\n",
    "                        if countries[row[1]][replace_index] == 0.0:\n",
    "                            score_type = PLOT_TITLES[replace_index]\n",
    "                            row[i] = round(interpolated_features[score_type][int(row[HOME_TEAM_FIFA_RANK])], 1)\n",
    "                        else:\n",
    "                            row[i] = countries[row[1]][replace_index]\n",
    "\n",
    "                    elif i in AWAY_FEATURE_INDEXES:\n",
    "                        replace_index = AWAY_FEATURE_INDEXES.index(i)\n",
    "                        if countries[row[2]][replace_index] == 0.0:\n",
    "                            score_type = PLOT_TITLES[replace_index]\n",
    "                            row[i] = round(interpolated_features[score_type][int(row[AWAY_TEAM_FIFA_RANK])], 1)\n",
    "                        else:\n",
    "                            row[i] = countries[row[2]][replace_index]\n",
    "            csv_writer.writerow(row)"
   ]
  },
  {
   "cell_type": "code",
   "execution_count": 13,
   "metadata": {},
   "outputs": [
    {
     "name": "stdout",
     "output_type": "stream",
     "text": [
      "Zambia has a completely missing value.\n",
      "Sierra Leone has a completely missing value.\n",
      "Zimbabwe has a completely missing value.\n",
      "Malta has a completely missing value.\n",
      "Barbados has a completely missing value.\n",
      "Armenia has a completely missing value.\n",
      "Oman has a completely missing value.\n",
      "Central African Republic has a completely missing value.\n",
      "Kenya has a completely missing value.\n",
      "Jordan has a completely missing value.\n",
      "Iraq has a completely missing value.\n",
      "Luxembourg has a completely missing value.\n",
      "Azerbaijan has a completely missing value.\n",
      "Suriname has a completely missing value.\n",
      "Comoros has a completely missing value.\n",
      "Uganda has a completely missing value.\n",
      "Madagascar has a completely missing value.\n"
     ]
    },
    {
     "ename": "FileNotFoundError",
     "evalue": "[Errno 2] No such file or directory: 'dataset/reconstructed/interpolated_match_history.csv'",
     "output_type": "error",
     "traceback": [
      "\u001b[0;31m---------------------------------------------------------------------------\u001b[0m",
      "\u001b[0;31mFileNotFoundError\u001b[0m                         Traceback (most recent call last)",
      "\u001b[0;32m<ipython-input-13-e278f64c6cd2>\u001b[0m in \u001b[0;36m<module>\u001b[0;34m\u001b[0m\n\u001b[1;32m      8\u001b[0m \u001b[0;34m\u001b[0m\u001b[0m\n\u001b[1;32m      9\u001b[0m \u001b[0;34m\u001b[0m\u001b[0m\n\u001b[0;32m---> 10\u001b[0;31m \u001b[0mreconstruct_with_interpolation\u001b[0m\u001b[0;34m(\u001b[0m\u001b[0mORIGINAL_MATCH_HISTORY\u001b[0m\u001b[0;34m,\u001b[0m \u001b[0mINTERPOLATED_MATCH_HISTORY\u001b[0m\u001b[0;34m)\u001b[0m\u001b[0;34m\u001b[0m\u001b[0;34m\u001b[0m\u001b[0m\n\u001b[0m",
      "\u001b[0;32m<ipython-input-13-e278f64c6cd2>\u001b[0m in \u001b[0;36mreconstruct_with_interpolation\u001b[0;34m(original_data, new_data)\u001b[0m\n\u001b[1;32m      5\u001b[0m \u001b[0;34m\u001b[0m\u001b[0m\n\u001b[1;32m      6\u001b[0m     \u001b[0mcountries\u001b[0m \u001b[0;34m=\u001b[0m \u001b[0mget_averages\u001b[0m\u001b[0;34m(\u001b[0m\u001b[0moriginal_data\u001b[0m\u001b[0;34m)\u001b[0m\u001b[0;34m\u001b[0m\u001b[0;34m\u001b[0m\u001b[0m\n\u001b[0;32m----> 7\u001b[0;31m     \u001b[0mwrite_interpolated_data\u001b[0m\u001b[0;34m(\u001b[0m\u001b[0moriginal_data\u001b[0m\u001b[0;34m,\u001b[0m \u001b[0mnew_data\u001b[0m\u001b[0;34m,\u001b[0m \u001b[0mcountries\u001b[0m\u001b[0;34m)\u001b[0m\u001b[0;34m\u001b[0m\u001b[0;34m\u001b[0m\u001b[0m\n\u001b[0m\u001b[1;32m      8\u001b[0m \u001b[0;34m\u001b[0m\u001b[0m\n\u001b[1;32m      9\u001b[0m \u001b[0;34m\u001b[0m\u001b[0m\n",
      "\u001b[0;32m<ipython-input-12-eba39d517755>\u001b[0m in \u001b[0;36mwrite_interpolated_data\u001b[0;34m(original_data, new_data, countries)\u001b[0m\n\u001b[1;32m      5\u001b[0m     '''\n\u001b[1;32m      6\u001b[0m \u001b[0;34m\u001b[0m\u001b[0m\n\u001b[0;32m----> 7\u001b[0;31m     \u001b[0;32mwith\u001b[0m \u001b[0mopen\u001b[0m\u001b[0;34m(\u001b[0m\u001b[0moriginal_data\u001b[0m\u001b[0;34m)\u001b[0m \u001b[0;32mas\u001b[0m \u001b[0mcsv_in\u001b[0m\u001b[0;34m,\u001b[0m \u001b[0mopen\u001b[0m\u001b[0;34m(\u001b[0m\u001b[0mnew_data\u001b[0m\u001b[0;34m,\u001b[0m \u001b[0;34m'w+'\u001b[0m\u001b[0;34m)\u001b[0m \u001b[0;32mas\u001b[0m \u001b[0mcsv_out\u001b[0m\u001b[0;34m:\u001b[0m\u001b[0;34m\u001b[0m\u001b[0;34m\u001b[0m\u001b[0m\n\u001b[0m\u001b[1;32m      8\u001b[0m         \u001b[0mcsv_reader\u001b[0m \u001b[0;34m=\u001b[0m \u001b[0mcsv\u001b[0m\u001b[0;34m.\u001b[0m\u001b[0mreader\u001b[0m\u001b[0;34m(\u001b[0m\u001b[0mcsv_in\u001b[0m\u001b[0;34m)\u001b[0m\u001b[0;34m\u001b[0m\u001b[0;34m\u001b[0m\u001b[0m\n\u001b[1;32m      9\u001b[0m         \u001b[0mcsv_writer\u001b[0m \u001b[0;34m=\u001b[0m \u001b[0mcsv\u001b[0m\u001b[0;34m.\u001b[0m\u001b[0mwriter\u001b[0m\u001b[0;34m(\u001b[0m\u001b[0mcsv_out\u001b[0m\u001b[0;34m)\u001b[0m\u001b[0;34m\u001b[0m\u001b[0;34m\u001b[0m\u001b[0m\n",
      "\u001b[0;31mFileNotFoundError\u001b[0m: [Errno 2] No such file or directory: 'dataset/reconstructed/interpolated_match_history.csv'"
     ]
    }
   ],
   "source": [
    "def reconstruct_with_interpolation(original_data: str, new_data: str) -> None:\n",
    "    '''\n",
    "    Reconstruct the missing data in original_data, write to new new_data csv.\n",
    "    '''\n",
    "\n",
    "    countries = get_averages(original_data)\n",
    "    write_interpolated_data(original_data, new_data, countries)\n",
    "    \n",
    "\n",
    "reconstruct_with_interpolation(ORIGINAL_MATCH_HISTORY, INTERPOLATED_MATCH_HISTORY)"
   ]
  },
  {
   "cell_type": "markdown",
   "metadata": {},
   "source": [
    "## Linear Regression Reconstruction"
   ]
  },
  {
   "cell_type": "markdown",
   "metadata": {},
   "source": [
    "## Gaussian Distribution Reconstruction"
   ]
  },
  {
   "cell_type": "code",
   "execution_count": null,
   "metadata": {},
   "outputs": [],
   "source": [
    "train_dataset = ORIGINAL_MATCH_HISTORY\n",
    "df = pd.read_csv(train_dataset)\n",
    "df"
   ]
  },
  {
   "cell_type": "markdown",
   "metadata": {},
   "source": [
    "## **4. Methodology Overview**"
   ]
  },
  {
   "cell_type": "markdown",
   "metadata": {},
   "source": [
    "\"Start by describing in broad terms your methodology. Include any background reading you may have done and a step by step description of how you have trained and evaluated your model. Describe any feature engineering that you have applied. If you had attempted different approaches prior to landing on your final methodology, then describe those approaches here.\""
   ]
  },
  {
   "cell_type": "markdown",
   "metadata": {},
   "source": [
    "*Code for the equivalent section in your report, together with in-line documentation of that code.*"
   ]
  },
  {
   "cell_type": "code",
   "execution_count": 4,
   "metadata": {},
   "outputs": [],
   "source": [
    "#Code blocks testing each method?\n",
    "#More code blocks displaying results of experiments?"
   ]
  },
  {
   "cell_type": "markdown",
   "metadata": {},
   "source": [
    "## **5. Model Training & Validation**"
   ]
  },
  {
   "cell_type": "markdown",
   "metadata": {},
   "source": [
    "\"This contains a breakdown of how your model was trained and evaluated.\""
   ]
  },
  {
   "cell_type": "markdown",
   "metadata": {},
   "source": [
    "*Code for the equivalent section in your report, together with in-line documentation of that code.*"
   ]
  },
  {
   "cell_type": "code",
   "execution_count": 5,
   "metadata": {},
   "outputs": [],
   "source": [
    "#Code for our chosen model\n",
    "#More code for testing our model"
   ]
  },
  {
   "cell_type": "markdown",
   "metadata": {},
   "source": [
    "## **6. Results**"
   ]
  },
  {
   "cell_type": "markdown",
   "metadata": {},
   "source": [
    "\"Here you show the results that you obtain using your model on the training data. If you have multiple variations or approaches, this is where you compare them.\""
   ]
  },
  {
   "cell_type": "markdown",
   "metadata": {},
   "source": [
    "*Code for the equivalent section in your report, together with in-line documentation of that code.*"
   ]
  },
  {
   "cell_type": "code",
   "execution_count": 6,
   "metadata": {},
   "outputs": [],
   "source": [
    "#Code for data visualisations of results"
   ]
  },
  {
   "cell_type": "markdown",
   "metadata": {},
   "source": [
    "## **7. Final Predictions on Test Set**"
   ]
  },
  {
   "cell_type": "markdown",
   "metadata": {},
   "source": [
    "\"This is the section where you perform your final predictions on the test set using the model that you have trained in the previous section.\""
   ]
  },
  {
   "cell_type": "markdown",
   "metadata": {},
   "source": [
    "*Code for the equivalent section in your report, together with in-line documentation of that code.*"
   ]
  },
  {
   "cell_type": "code",
   "execution_count": 7,
   "metadata": {},
   "outputs": [],
   "source": [
    "#Code for performing the final prediction"
   ]
  },
  {
   "cell_type": "markdown",
   "metadata": {},
   "source": [
    "## Credits"
   ]
  },
  {
   "cell_type": "markdown",
   "metadata": {},
   "source": [
    "(Alphabetical ordering is my weakness...)"
   ]
  },
  {
   "cell_type": "markdown",
   "metadata": {},
   "source": [
    "Minyong Cheong\n",
    "<br>\n",
    "Justin Koo\n",
    "<br>\n",
    "Adel Mouffok\n",
    "<br>\n",
    "James Parkington\n",
    "<br>\n",
    "Chris Sim\n",
    "<br>\n",
    "Angellika Vojevodina"
   ]
  }
 ],
 "metadata": {
  "kernelspec": {
   "display_name": "Python 3",
   "language": "python",
   "name": "python3"
  },
  "language_info": {
   "codemirror_mode": {
    "name": "ipython",
    "version": 3
   },
   "file_extension": ".py",
   "mimetype": "text/x-python",
   "name": "python",
   "nbconvert_exporter": "python",
   "pygments_lexer": "ipython3",
   "version": "3.9.0"
  },
  "vscode": {
   "interpreter": {
    "hash": "2c65d81e12a50e27b75193da9c156807d0f651397f79076301be78a590cf72c3"
   }
  }
 },
 "nbformat": 4,
 "nbformat_minor": 2
}
